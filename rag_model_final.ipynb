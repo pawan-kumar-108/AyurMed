{
 "cells": [
  {
   "cell_type": "code",
   "execution_count": 1,
   "id": "c2828f24",
   "metadata": {},
   "outputs": [],
   "source": [
    "#!pip install gradio"
   ]
  },
  {
   "cell_type": "code",
   "execution_count": 6,
   "id": "6a885b20",
   "metadata": {},
   "outputs": [],
   "source": [
    "from huggingface_hub import InferenceClient\n",
    "import gradio as gr"
   ]
  },
  {
   "cell_type": "code",
   "execution_count": 8,
   "id": "63ae02e6",
   "metadata": {},
   "outputs": [],
   "source": [
    "client = InferenceClient(\n",
    "    #\"mistralai/Mistral-7B-Instruct-v0.1\"\n",
    "    #BAAI/bge-small-en-v1.5\n",
    "    \"TheBloke/Mistral-7B-Instruct-v0.2-GPTQ\"\n",
    ")"
   ]
  },
  {
   "cell_type": "code",
   "execution_count": 4,
   "id": "40098679",
   "metadata": {},
   "outputs": [],
   "source": [
    "#!pip install modin[all]"
   ]
  },
  {
   "cell_type": "code",
   "execution_count": 5,
   "id": "118072e3",
   "metadata": {},
   "outputs": [
    {
     "name": "stderr",
     "output_type": "stream",
     "text": [
      "UserWarning: Pandas requires version '1.3.6' or newer of 'bottleneck' (version '1.3.5' currently installed).\n"
     ]
    }
   ],
   "source": [
    "import modin.pandas as pd"
   ]
  },
  {
   "cell_type": "code",
   "execution_count": 6,
   "id": "c9e987b8",
   "metadata": {},
   "outputs": [],
   "source": [
    "#!pip install intel-extension-for-pytorch"
   ]
  },
  {
   "cell_type": "code",
   "execution_count": 7,
   "id": "81e46aa2",
   "metadata": {},
   "outputs": [],
   "source": [
    "import sys\n",
    "import os\n",
    "#!pip install datasets tensorboardX"
   ]
  },
  {
   "cell_type": "code",
   "execution_count": 8,
   "id": "ef848859",
   "metadata": {},
   "outputs": [],
   "source": [
    "#!pip install torch==2.2.0"
   ]
  },
  {
   "cell_type": "code",
   "execution_count": 9,
   "id": "7f281a97",
   "metadata": {},
   "outputs": [],
   "source": [
    "#!pip install PyPDF2"
   ]
  },
  {
   "cell_type": "code",
   "execution_count": 10,
   "id": "ec5d8e5d",
   "metadata": {},
   "outputs": [],
   "source": [
    "#!pip install llama_index"
   ]
  },
  {
   "cell_type": "code",
   "execution_count": 11,
   "id": "beda2d6e",
   "metadata": {},
   "outputs": [
    {
     "name": "stdout",
     "output_type": "stream",
     "text": [
      "Requirement already satisfied: docx in c:\\users\\hp\\anaconda3\\lib\\site-packages (0.2.4)\n",
      "Requirement already satisfied: lxml in c:\\users\\hp\\anaconda3\\lib\\site-packages (from docx) (4.9.2)\n",
      "Requirement already satisfied: Pillow>=2.0 in c:\\users\\hp\\anaconda3\\lib\\site-packages (from docx) (9.4.0)\n"
     ]
    }
   ],
   "source": [
    "!pip install docx"
   ]
  },
  {
   "cell_type": "code",
   "execution_count": 9,
   "id": "8acfd034",
   "metadata": {
    "scrolled": true
   },
   "outputs": [
    {
     "data": {
      "text/plain": [
       "'Ayurveda for common cold:/\\nCommon Cold is relatively harmless condition. It can occur at any time throughout the year but the most common are in late winter and fall. It is most common in children./\\nThis condition acts as a gateway to many other respiratory problems. It’s called the \"common cold\" because you may feel colder in this ailment, than any other type of illness. However, it should not be neglected./\\nSymptoms of common cold/\\nSome of the common symptoms are listed below:/\\nRunning or Blocked Nose./\\nSore/ Scratchy throat./\\nSneezing./\\nFatigue./\\nMuscle Aches./\\nLoss of Appetite./\\nCough./\\nHeadache./\\nMild fever with chills/\\nCommon remedies/\\nLeaves of holy basil (Tulsi) plant mixed with an equal quantity of dried ginger powder form an excellent substitute for tea during cold and flu. This may be taken by adding milk and sugar three times a day./\\nJuice of ginger (Adrak) and holy basil (Tulsi) one-one tea spoon (5 ml.) mixed with one tea spoon (5 ml.) honey, to be taken two-three times a day./\\nPowder of black pepper (marich) half tea spoon (2.5 ml.) mixed with jaggery (guda) two times a day./\\nSmall piece of Ginger (Adraka) fried in ghee, to be taken two times a day./\\nOne teaspoonful of the powder or paste of turmeric to a cup of milk or fried turmeric powder taken with 1-2 gm of ghee mixed with hot milk thrice a day. This gives immediate relief and help in early recovery./\\nGargle with warm turmeric powder 2-3 times a day to relieve sore throat./\\nDrink a glass of hot water mixed with the juice of two lemons and sugar to taste. Take the same at bedtime as it gives relief from nasal catarrh./\\nTwo to three tea spoon (10-15 ml.) of fresh juice of Amla or half to one tea spoon (2.5-5 gm) powder of the same is ideal to control cold./\\nPrevention and Self-care/\\nThere are several ways in which you can keep the intensity of condition levels low./\\nInhale steam to relieve a stuffed nose. Add a few drops of eucalyptus oil in a bowl of hot water. Cover your head and the bowl with a towel for few minutes at a time. Be careful that the water is not so hot that the steam burns your face./\\nStrengthen your immune system and keep yourself healthy. Two plants that will help you strengthen your immune system are Amla and Tulsi which may be used./\\nDo not over heat the room. Let the body lose heat naturally./\\nKeep away from others who are infected with cold./\\nEat a well balanced diet and get enough rest. Take plenty of hot beverages./\\nCare of New Born during coughs & colds to avoid Acute Respiratory Infections/\\nSooth the throat and relieve cough with a home remedy such as lemon with honey, ginger, tulsi, warm water etc./\\nAbove mentioned remedies may be used in small doses./\\n/\\nFor sore throat Cough and other throat related problems its better to chew or munch few Betel Leaves Its peppy taste will definitely cure throat problems/\\n/\\n/\\n/\\nAyurveda for constipation:/\\nKabja/ Vibandha/\\nHome Remedies/\\nDiet consideration/\\nKabja/ Vibandha/\\nThere are several causes for constipation like/\\nhabit of suppressing the urge over long periods/\\nabsence or non-availability of articles habitually used before defecation, such as drinking coffee or tea/\\nhabituated use of laxatives./\\nHome Remedies/\\nTriphala powder is very popularly used for this condition. It contains three drugs namely - Haritaki (Harada), Vibhitaki (Baheda) and Amalaki (Amla). 5gm of this powder (1 tea spoon) should be taken with luke warm water at bed time./\\nThe best to evacuate in chronic condition is castor oil. The castor oil used should be purified and diluted. The 4-6 tea spoon (20-30 ml.) of this oil is to be taken with warm milk./\\n1 Teaspoonful of Sana leaves (Sanay) in 1 cup of hot milk at bedtime is an easy method to relieve constipation./\\nDiet consideration/\\nDrink a glass of water early in the morning after washing the face and mouth./\\nIt is a better idea, if you can take a glass of warm milk at bedtime after adding a teaspoonful of ghee to it./\\nBeans, dry grains, cabbage, mushrooms and other dry food should be avoided./\\nSpices, which balance digestion- asafoetida (Hing), Ginger (Adraka), Cardamom (Elayachi) or Fennel (Saunf), should be taken with food to alleviate and promote the downward movement of gas./\\nTry to avoid hot and spicy food and adequate fluids should be taken./\\nEat plenty of fruits and leafy vegetables as Papaya and sugarcane are very effective in relieving constipation./\\nUse whole wheat flour and not refined flour./\\n/\\n/\\nAyurveda for Hyperacidity:/\\nHyperacidity (Amlapitta)/\\nHyperacidity (Amlapitta) is one of the most common disease seen in the society. It is seen in all ages, all classes, and all community. Hyperacidity refers to a set of symptoms caused by an imbalance between the acid secreting mechanism of the stomach and proximal intestine and the protective mechanisms that ensure their safety. The stomach normally secretes acid that is essential in the digestive process. When there is excess production of acid in the stomach, it results in the condition known as acidity./\\nCauses/\\n‘Hurry’, ‘Worry’, and ‘Curry’ are the three main reasons for the disease./\\nDiet (Ahara)/\\nSpicy food habits like eating samosa, burger, pizza, etc./\\nExcessive use of chilly, Cinnamon, clove, mustard, garam masala powder (spice mixture), garlic etc. in diet/\\nSalty and sour foods like chips/\\nEating of stale, fermented foods (dosa, uttappa, idli etc. bakery food items)./\\nExcessive intake of fast food/\\nExcessive intake of Oily foods, pickles/\\nIntake of food and beverages in its hot condition like soups/\\nExcessive intake of tea/coffee./\\nLesser intake of water, dry food/\\nIrregular meal times/\\nRepeated food intake (before the digestion of the previously taken food)/\\nIncompatible food like taking non-veg., pizza followed by milk shake./\\nSkipping meals./\\nEating too late at night/\\nRegimens (Vihara)/\\nLack of rest, fast moving lifestyle./\\nInsufficient sleep at night./\\nSleeping immediately after meals./\\nSuppression of natural urges./\\nExcessive exposure to sun and fire/\\nMental factors/\\nStressful life style/\\nExcessive anxiety, worry, jealousy, anger, fear/\\nJob dissatisfaction/\\nAll the above factors result in excessive increase of ‘Pitta dosha’ in body and exhibits symptoms of amlapitta./\\nSigns and symptoms/\\nHeart &chest burn (retrosternal burning)/\\nSour or bitter belching./\\nNausea/\\nThroat burn/\\nRegurgitation of food or sour substance/\\nVomiting/\\nGaseous distention of abdomen/\\nHeaviness in abdomen/\\nIndigestion./\\nAversion towards food./\\nPain in abdomen./\\nChest pain./\\nHeadache./\\nBad breathe./\\nFoul smelling loose motions./\\nSevere burning sensation over feet, hands/\\nThirst/\\nMouth ulcer/\\nFatigue (especially in legs)/\\nTiredness/\\nFainting./\\nGiddiness./\\nItching all over the body/\\nPrevention/\\nAs the saying goes “Prevention is better than cure” it is better to avoid all the causative factors of acid-peptic disorder (amlapitta)./\\nAvoid excessive salty, oily, sour and spicy foods/\\nAvoid heavy and untimely food/\\nAvoid smoking and alcohol intake/\\nFood should consist mainly of bitters like bitter gourd, matured ash gourd/\\nInclude barley, wheat, old rice and green gram in diet./\\nAvoid overcooked, stale and contaminated food./\\nThe food must be properly cooked/\\nFollow mental relaxation techniques/\\nMedical management/\\nLine of treatment/\\nAvoid causative factors/\\nPalliative treatment - As the disease is of Pitta origin, all measures are undertaken to pacify pitta./\\nPanchakarma treatment When patient cannot be well managed with oral medications ‘Panchakarma procedures’ like Vamana (emesis) or virechana (purgation) whichever is needed should be administered. In chronic cases Asthapanavasti (medicated enema) is indicated./\\nSome important single drugs useful in Amlapitta/\\nShatavari - 3 gm twice a day with milk/\\nYashtimadhu - 3 gm twice a day with milk/\\nAmalaki (Indian gooseberry) - 3 gm twice a day with water/\\nSunthi (dry ginger) - 1- 3 gm twice a day with water/\\nDomestic Remedies/\\nThe Infusion of coriander seeds (Dhanyak) taken with sugar twice a day./\\nWater obtained from green fruit of Coconut 100-500 ml to be taken twice a day./\\nPowder of Amla 3-6 gm BD with water./\\nPowder of Shatapuspa (Saunf) (Anethumsowa) with sugar mixed in a glass of water - 20 ml twice daily for 1 week or till the symptom subsides/\\nChewing of half a teaspoon of fennel seeds after food/\\nDo\\'s and Don\\'ts/\\nDo\\'s (Pathya)/\\nFollow the meal times./\\nLight food, Coconut water, articles having cooling properties/\\nVegetables like white pumpkin, bitter gourd, matured ash gourd, leafy vegetables except Methi/\\nWheat, old rice, barley, green gram, sugar candy, cucumber,/\\nFruits like gooseberry, dry grapes, black grapes, sweet lime, pomegranate, fig, dry fig,/\\nTake adequate amount of fluids like pomogranate juice, lemon juice, amla juice, sweetlime juice, Medicated water with ushir (wala) or coriander seeds, or laja (puffed rice). Warm water./\\nDadimpak (sweet preparation made of pomegranate). Moramla (jam made from amla), gulkand (jam made from rose petals) with milk/\\nA cup of lukewarm milk after every two or three hours./\\nOne teaspoonful of ghee with warm milk/\\nTake adequate sleep & rest/\\nPractice Yoga, Pranayam, meditation & exercise regularly/\\nDon’ts (Apathya)/\\nAvoid excessive spicy, sour and salty substances/\\nAvoid fried and junk food items/\\nDo not remain hungry. Avoid fast./\\nDo not overeat, take small frequent meals/\\nAvoid untimely and irregular food habit/\\nAvoid foods containing excess amount of garlic, salt, oil, chillies,etc. very often./\\nAvoid rice curd and sour fruits./\\nAvoid lying down immediately after food and in supine position. The best recommended position is left lateral/\\nAvoid, smoking, alcohol, tea, coffee and aspirin type drugs./\\nAvoid stress/\\n/\\n/\\n/\\nAyurveda for Bronchial Asthma:/\\nBronchial Asthma - Tamaka Swasa/\\nCauses/\\nTreatment modalities in Ayurveda/\\nSpecific Do’s and Don’ts/\\nBronchial Asthma - Tamaka Swasa/\\nDifficulty in breathing or shortness of breath may be simply termed as Swasa (Asthma). It may be primary - originating from respiratory system, secondary - originating from other systems of the body but the impact is on respiratory system./\\nBronchial Asthma is a chronic inflammatory disease of airway. It leads to recurrent episodes of wheezing, breathlessness, tightness of chest and cough particularly at night or early morning. As per Ayurveda, Swasa is mainly caused by the Vata and Kapha doshas. Swasa is broadly classified into five types in Mahaswasa (Dyspnoea major), Urdhawaswasa ( Expiratory Dyspnoea), Chinna swasa (Chyne- stroke respiration), Kshudra swasa ( Dyspnoea minor), Tamaka swasa (Bronchial Asthma)./\\nCauses/\\nAs per Ayurveda the causes of Tamaka Swasa are as follows:/\\nIntake of dry, cold, heavy, incompatible food and irregular intake of food/\\nExcessive Intake of black gram, beans, sesame, meat of aquatic animals./\\nIntake of cold water and exposure to cold climate/\\nExposure to dust, smoke and wind/\\nExcessive exercise, over indulge in the sexual activity/\\nTrauma to throat, chest and vital organs./\\nSuppression of natural urges./\\nTreatment modalities in Ayurveda/\\nAs per the Ayurveda Bronchial Asthma is Vatakaphaja disease, it begins in the stomach, progresses to the lungs and bronchi. Hence the aim of treatment is to move the excess Kapha back to stomach and then eliminate it. For this purpose following methods are adopted./\\nSwedana (Sudation)/\\nVamana (Therapeutic emesis)/\\nVirechana (Therapeutic purgation)/\\nThese procedures will be followed as per the need of individual patient. Practice of Pranayama, laxatives, light diet in the night and use of warm water will helps in the treatment of Asthma./\\nSpecific Do’s and Don’ts/\\nDo’s (Pathya)/\\nGodhuma (wheat), Old rice, Mudga (green gram), Kulattha (Horse gram), Yava (barley), Patola (snake gourd)/\\nUse of Garlic, Turmeric, Ginger, Black pepper/\\nLuke warm water, Goat milk, Honey/\\nRespiratory exercise, Pranayama, Yoga/\\nDon’ts (Apathya)/\\nHeavy, cold diet, Masha (black gram), Deep fried items, Mustard leaves, Fish/\\nExposure to Cold & Humid atmosphere/\\nSweets, Chilled water, Stored food items, Curd/\\nSuppression of natural urges/\\nExcessive physical exertion/\\nExposure to Smoke, Dust and fumes, Pollutants and Pollens/\\n/\\nAyurveda for Obesity:/\\nObesity (Sthaulya)/\\nCauses/\\nSymptoms/\\nLine of treatment/\\nPreventive measures/\\nDo\\'s and Don\\'ts/\\nObesity (Sthaulya)/\\nObesity is accumulation of excess fat in the body which may lead to negative effects on health, reduced life expectancy and/or increased health problems./\\nA major proportion of Diabetes, Ischemic Heart Disease, Hypertension, Ischemic Stroke, Osteoarthritis, and Cancer burden may be attributed to Overweight and Obesity./\\nIn Ayurveda, Atisthaulya (Obesity) is described as excessive accumulation of Meda (fat/adipose tissue) and Mamsa (flesh/muscle tissue) leading to flabbiness of hips, abdomen, and breast. It is considered as one of Santarpanottha Vikaras (disease due to consumption of excessive calories) in Ayurveda. Medodushti (disorders of fat metabolism) may be one of the risk factors for Ischemic Heart Disease (IHD)./\\nCauses/\\nIncreased intake of energy-dense foods that are high in fat, carbohydrates/\\nOvereating and Irregular food habits/\\nLack of Physical activities due to sedentary life style/\\nGenetics, endocrine disorders, Medical Reasons or Psychiatric illness/\\nDay - time sleeping/\\nSymptoms/\\nBreathlessness even on little exertion / physical activity./\\nLack of interest in doing work./\\nProfuse sweating with foul body odor./\\nExcessive hunger./\\nFeeling of tiredness./\\nExcessive sleep/\\nLine of treatment/\\n(Under strict supervision of Registered Ayurvedic Physician)/\\nShamana (Palliative) treatment:/\\nLanghan (Fasting),/\\nAma pachan (oral use of digestives to augment the fat metabolism),/\\nRuksha Udwartan (Dry medicated powder massage),/\\nHeavy and non-nourishing diet/items like Honey, salad etc are advised./\\nPhysical exercises, mental work is also recommended./\\nSamshodhana Chikitsa (Purificatory procedures):/\\nPanchakarma/\\nVaman (Therapeutic emesis),/\\nVirechan (Therapeutic purgation),/\\nLekhan vasti (Medicated enema) are advised for the management of Sthaulya./\\nSingle drugs: Guduchi, Vidanga, Musta, Sunthi, Amla, Vaca, Daruharidra, Guggulu, etc./\\nCompound Formulations: Trikatu, Navak Guggulu, Triphala Guggulu, Vidangadi Churna, Takrarishta, Navayasa lauha, Arogya Vardhini Vati etc./\\nPreventive measures/\\nUnhealthy diet results in building up of adipose tissue in the body resulting in weight gain and obesity. Physical activity lessens the energy imbalance between calories consumed on one hand, calories expended on the other hand resulting in weight gain and obesity. Hence, intake of healthy diet comprising of sufficient fibre, adopting active life style and practicing Yoga and Meditation to manage stress and fatigue are highly recommended for the prevention of Overweight / Obesity./\\nLife Style modifications such as/\\nMild to Moderate exercise according to individual capacity./\\nRegular habit of Brisk morning walk for 30 minutes./\\nAvoid sedentary habits./\\nAvoid excessive sleep./\\nAvoid watching TV while having food./\\nAvoid Alcohol and Smoking/\\nDo\\'s and Don\\'ts/\\nDo\\'s/\\nTake low-fat and low-calorie food items./\\nTake more proteins to stay longer without food./\\nSteamed/ boiled and baked vegetables rather than fried./\\nTake frequent small meals to avoid food cravings./\\nDrink skimmed milk instead of whole milk./\\nTake Healthy foods such as – oatmeal, walnuts, salads, bitter gourd (Karela), drumstick (Shigru), barley (Yava ), wheat, Green gram (Moong dal), honey (Madhu), Indian Gooseberry (Amla), pomegranate (Anar) and snake gourd etc and skimmed Buttermilk./\\nInclude cabbage in daily meal. It will stop the conversion of sugars to fat./\\nUse warm water for drinking./\\nInclude lemon in diet and drinks./\\nDont’s/\\nHigh carbohydrate vegetables like - potato, rice etc./\\nMore sugary or sweet products, more dairy products, fried and oily foods, fast foods, excess salt./\\nSalty foods or excessive salt in meals./\\n/\\n/\\n/\\n/\\n/\\n/\\nAyurvedic tips to treat dry cough:/\\nSymptoms/\\nCauses/\\nHow Ayurvedic Treats Dry Cough?/\\nAyurvedic home remedies for dry cough/\\nAyurvedic treatment approach for dry cough/\\nDry cough (Shushka-Kasa) is a very common ailment nowadays, especially in cities. The allergens or pollutants in the environment enter your throat pipe, lungs or airways and trigger your body to cough them out! This continued action (natural reflex) causes inflammation of the respiratory tract and throat. Dry cough can last for a very long time, even become chronic./\\nSymptoms/\\nA person suffering from this disease displays the following symptoms:/\\nFrequent dry cough/\\nPhlegm/sputum production/\\nBurning sensation or suffocation in the chest/\\nFever/\\nPain in the region of heart, temples, head, abdomen, sides/\\nIrritability/\\nDryness in the mouth, excessive thirst, bitter taste/\\nSore throat, hoarseness of voice/\\nDifficulty in swallowing food/\\nTiredness, weakness/\\nNausea after eating food./\\nCauses/\\nThe main causes of dry cough are respiratory tract infections, Sinusitis, Pneumonia, suppression of vomiting and inflammation due to irritants/allergens. The last reason is the most common one!/\\nWhen dry coughs are provoked by prolonged exposure to high pollution-levels, dust, allergy and toxic smoke (like cigarettes) it is known as \\'Vataja Kasa’ in Ayurveda./\\nTo shield from this disease, your respiratory system must have a strong immunity but with poor nutrition, irregular lifestyle and growing environmental toxicity, it is hard for your body to fight back./\\nHow Ayurvedic Treats Dry Cough?/\\nPrana Vayu and Udana Vayu (types of Vata) govern the respiratory system. When allergens, viruses, and bacteria vitiate them, irritation occurs. As a countermeasure, the body forcibly expels air to remove the obstruction. During this process, the Vata (biological air) balance in the body gets impaired and causes “Vataja Kasa”./\\nAyurvedic home remedies for dry cough/\\nIf you are suffering from Dry cough, try out these effective Ayurvedic home remedies:/\\nBefore bedtime, take warm milk with turmeric and honey. This works as a natural antibiotic./\\nConsume turmeric powder mixed with honey three times a day./\\nLicorice (Mulethi) lozenges to reduce inflammation./\\nUse the decoction of Sauf (Ani seeds) as the base water to make coffee or tea./\\nSooth your infected throat pipe with natural cough syrup made by mixing ginger and honey. Boil a piece of ginger (peeled) in water. Filter and mix 1 tsp of honey and consume. You can even chew small pieces of ginger sprinkled with water for its anti-inflammatory properties/\\nAdd a pinch of cinnamon powder in warm water or tea for relief from throat irritability/\\nDrink tea made of Tulsi (Basil leaves), ginger and honey/\\nYou can chew Tulsi leaves throughout the day for faster recovery/\\nDon’t forget to make some important lifestyle changes like:/\\nAvoid interaction with allergens (pollution, dust, pollen etc.)/\\nAbstain from junk, dry or spicy food/\\nA nourishing diet should be taken in small quantities (preferably as soups) until the digestive Agni becomes strong/\\nHave plenty of rest/\\nConsume clean, room temperature/warm water/\\nDo Pranayama for building lung’s health/\\nAvoid irritants like smoke from mosquito coils, incense etc/\\nFollow strict food and sleep schedule. Have dinner before sunset/\\nInstall humidifier in the bedroom/\\nConsume food rich in Vitamin C to strengthen the immune system/\\nAyurvedic treatment approach for dry cough/\\nApart from these home remedies, the Vaids prescribe medicinal preparations depending on patients’ dosha composition (Vata-Pitta-Kapha balance) and disease symptoms. Today, Ayurveda has advanced medicines for curing related ailments like irritable dry cough, chronic fever, throat infection and respiratory diseases. For example: Draksharishta, Vaikrantabaddaras,  Pravalachandrodaya, Ekotharavrudhimahalakshmivilasarasa, Talisadi Churna, Sithopaladhi Churna and Lakshmivilasarasa./\\nTo treat ‘Vataja Kasa’ (most common dry cough) the following treatment plan is followed:/\\nApplication of oils and/or heat to the prana vaha srota (respiratory system). Eg. Sesame oil massaged into the chest followed by fomentation./\\nGhrita (medicated ghee) administration. Ghee is prepared using warm or moist expectorant herbs: Kantakari, vasaka, licorice and wild cherry bark./\\nFor the digestive system anuvasana basti (oil enema) or niruha basti (decoction enema) is done./\\nPrescription of Sitopaladi Churna. It is a combination of many herbs and spices with chief herb being Vamsa rochana./\\n/\\n/\\n/\\nFlush the toxins and reboot yourself:/\\nThe Detoxification process in Ayurveda/\\nPanchakarmas of Ayurveda/\\nAyurveda is one of the world\\'s oldest holistic healing systems, originated about 3000 years ago in India. Ayurveda is not simply a healing system, but it is a way of life. The essence of Ayurveda is to keep the delicate balance between the body, mind and soul. Its purpose is to find the true balance of life by bringing adequate change in our diet and lifestyle./\\nThe Detoxification process in Ayurveda/\\nThe primary aim of Ayurveda is to maintain the health of healthy people and to cure the diseases of sick people. Principally it comprises of 2 parts – cleansing therapy and pacifying therapy. When the toxins of the body causing diseases are in lesser quantity, pacifying medicines are given both internally and externally. Cleansing therapy which include the Panchakarmas of Ayurveda are used when the toxins are in greater quantity, thus draining them out from the body through the natural orifices./\\nPanchakarmas of Ayurveda/\\nPanchakarma includes specially designed five procedures of internal purification and detoxification of the body through the nearest possible route. Such purification allows the biological system to return to homeostasis and to rejuvenate rapidly and also facilitates the desired pharmaco-therapeutic effects of medicines administered thereafter. As a treatment procedure, Panchakarma has different roles - application in the treatment of disease, as preparatory measures before surgery in Ayurveda, before administration of Rasayana and Vajikarana therapy etc./\\nBut today, Panchakarma expounded in Ayurveda is perhaps the most misunderstood of all Ayurveda practices. Due to ignorance, it is often perceived as just another system of oil massage./\\nPanchakarma is not only good for alleviating the disease but is also a useful modality of treatment in preserving and promoting the perfect health. Panchakarma with wider range of therapeutical effects will pave way to nourishment of tissues, rejuvenation, increasing virility etc./\\nIn today\\'s busy world more and more people are becoming victims of the adverse effects of stress and anxiety, which is leading to diseases like gastro-intestinal disorders, lack of sleep, allergies, heart diseases, diabetes, cancer, osteoporosis, chronic fatigue etc. These diseases caused mainly due to deep seated metabolic toxins. Panchakarma eliminates these metabolic toxins from the body allowing permanent healing of tissues and channels. Panchakarma well known as detoxification and rejuvenation therapy, helps to eliminate the disease causing toxins and revitalizes the tissues. Panchakarma has a full therapy role as preventive and curative procedure./\\nPanchakarma is to be performed by professionally qualified and experienced therapists under the guidance of proficient and specialist doctors. Appropriate clinical examination of the patients is to be varried out and the treatment protocol is to be planned by the doctors after considering the physical and mental health of each individual./\\n/\\n'"
      ]
     },
     "execution_count": 9,
     "metadata": {},
     "output_type": "execute_result"
    }
   ],
   "source": [
    "from PyPDF2 import PdfReader\n",
    "import docx\n",
    "import os\n",
    "\n",
    "\n",
    "def read_pdf(file_path):\n",
    "    with open(file_path, \"rb\") as file:\n",
    "        pdf_reader = PdfReader(file)\n",
    "        text= \"\"\n",
    "        for page_num in range(len(pdf_reader.pages)):\n",
    "            text+= pdf_reader.pages[page_num].extract_text()\n",
    "        return text\n",
    "    \n",
    "\n",
    "def read_word(file_path):\n",
    "    doc = docx.Document(file_path)\n",
    "    text = \"\"\n",
    "    for paragraph in doc.paragraphs:\n",
    "        text+= paragraph.text + \"/\\n\"\n",
    "    return text\n",
    "\n",
    "def read_txt(file_path):\n",
    "    with open(file_path, \"r\") as file:\n",
    "        text = file.read()\n",
    "    return text\n",
    "\n",
    "def read_directory(directory):\n",
    "    combined_text = \"\"\n",
    "    for file_name in os.listdir(directory):\n",
    "        file_path = os.path.join(directory, filename)\n",
    "        if file_name.endswith(\".pdf\"):\n",
    "            combined_text += read_pdf(file_path)\n",
    "        elif file_name.endswith(\".docx\"):\n",
    "            combined_text += read_word(file_path)\n",
    "        elif file_name.endswith(\".txt\"):\n",
    "            combined_text += read_txt(file_path)\n",
    "    return combined_text\n",
    "\n",
    "#read_directory('C:\\Users\\hp\\Downloads\\')\n",
    "read_word(r'C:\\Users\\hp\\Downloads\\Ayurvedic Dataset.docx')"
   ]
  },
  {
   "cell_type": "code",
   "execution_count": 10,
   "id": "40049231",
   "metadata": {},
   "outputs": [],
   "source": [
    "document= read_word(r'C:\\Users\\hp\\Downloads\\Ayurvedic Dataset.docx')"
   ]
  },
  {
   "cell_type": "code",
   "execution_count": 11,
   "id": "f331faad",
   "metadata": {},
   "outputs": [
    {
     "data": {
      "text/plain": [
       "23569"
      ]
     },
     "execution_count": 11,
     "metadata": {},
     "output_type": "execute_result"
    }
   ],
   "source": [
    "len(document)"
   ]
  },
  {
   "cell_type": "code",
   "execution_count": 15,
   "id": "a622c959",
   "metadata": {},
   "outputs": [
    {
     "name": "stdout",
     "output_type": "stream",
     "text": [
      "Requirement already satisfied: llama-index in c:\\users\\hp\\anaconda3\\lib\\site-packages (0.10.26)\n",
      "Requirement already satisfied: llama-index-agent-openai<0.3.0,>=0.1.4 in c:\\users\\hp\\anaconda3\\lib\\site-packages (from llama-index) (0.2.2)\n",
      "Requirement already satisfied: llama-index-cli<0.2.0,>=0.1.2 in c:\\users\\hp\\anaconda3\\lib\\site-packages (from llama-index) (0.1.11)\n",
      "Requirement already satisfied: llama-index-core<0.11.0,>=0.10.26 in c:\\users\\hp\\anaconda3\\lib\\site-packages (from llama-index) (0.10.26)\n",
      "Requirement already satisfied: llama-index-embeddings-openai<0.2.0,>=0.1.5 in c:\\users\\hp\\anaconda3\\lib\\site-packages (from llama-index) (0.1.7)\n",
      "Requirement already satisfied: llama-index-indices-managed-llama-cloud<0.2.0,>=0.1.2 in c:\\users\\hp\\anaconda3\\lib\\site-packages (from llama-index) (0.1.5)\n",
      "Requirement already satisfied: llama-index-legacy<0.10.0,>=0.9.48 in c:\\users\\hp\\anaconda3\\lib\\site-packages (from llama-index) (0.9.48)\n",
      "Requirement already satisfied: llama-index-llms-openai<0.2.0,>=0.1.13 in c:\\users\\hp\\anaconda3\\lib\\site-packages (from llama-index) (0.1.14)\n",
      "Requirement already satisfied: llama-index-multi-modal-llms-openai<0.2.0,>=0.1.3 in c:\\users\\hp\\anaconda3\\lib\\site-packages (from llama-index) (0.1.4)\n",
      "Requirement already satisfied: llama-index-program-openai<0.2.0,>=0.1.3 in c:\\users\\hp\\anaconda3\\lib\\site-packages (from llama-index) (0.1.5)\n",
      "Requirement already satisfied: llama-index-question-gen-openai<0.2.0,>=0.1.2 in c:\\users\\hp\\anaconda3\\lib\\site-packages (from llama-index) (0.1.3)\n",
      "Requirement already satisfied: llama-index-readers-file<0.2.0,>=0.1.4 in c:\\users\\hp\\anaconda3\\lib\\site-packages (from llama-index) (0.1.13)\n",
      "Requirement already satisfied: llama-index-readers-llama-parse<0.2.0,>=0.1.2 in c:\\users\\hp\\anaconda3\\lib\\site-packages (from llama-index) (0.1.4)\n",
      "Requirement already satisfied: openai>=1.14.0 in c:\\users\\hp\\anaconda3\\lib\\site-packages (from llama-index-agent-openai<0.3.0,>=0.1.4->llama-index) (1.16.2)\n",
      "Requirement already satisfied: PyYAML>=6.0.1 in c:\\users\\hp\\anaconda3\\lib\\site-packages (from llama-index-core<0.11.0,>=0.10.26->llama-index) (6.0.1)\n",
      "Requirement already satisfied: SQLAlchemy[asyncio]>=1.4.49 in c:\\users\\hp\\anaconda3\\lib\\site-packages (from llama-index-core<0.11.0,>=0.10.26->llama-index) (2.0.29)\n",
      "Requirement already satisfied: aiohttp<4.0.0,>=3.8.6 in c:\\users\\hp\\anaconda3\\lib\\site-packages (from llama-index-core<0.11.0,>=0.10.26->llama-index) (3.9.3)\n",
      "Requirement already satisfied: dataclasses-json in c:\\users\\hp\\anaconda3\\lib\\site-packages (from llama-index-core<0.11.0,>=0.10.26->llama-index) (0.6.4)\n",
      "Requirement already satisfied: deprecated>=1.2.9.3 in c:\\users\\hp\\anaconda3\\lib\\site-packages (from llama-index-core<0.11.0,>=0.10.26->llama-index) (1.2.14)\n",
      "Requirement already satisfied: dirtyjson<2.0.0,>=1.0.8 in c:\\users\\hp\\anaconda3\\lib\\site-packages (from llama-index-core<0.11.0,>=0.10.26->llama-index) (1.0.8)\n",
      "Requirement already satisfied: fsspec>=2023.5.0 in c:\\users\\hp\\anaconda3\\lib\\site-packages (from llama-index-core<0.11.0,>=0.10.26->llama-index) (2024.3.1)\n",
      "Requirement already satisfied: httpx in c:\\users\\hp\\anaconda3\\lib\\site-packages (from llama-index-core<0.11.0,>=0.10.26->llama-index) (0.27.0)\n",
      "Requirement already satisfied: llamaindex-py-client<0.2.0,>=0.1.15 in c:\\users\\hp\\anaconda3\\lib\\site-packages (from llama-index-core<0.11.0,>=0.10.26->llama-index) (0.1.16)\n",
      "Requirement already satisfied: nest-asyncio<2.0.0,>=1.5.8 in c:\\users\\hp\\anaconda3\\lib\\site-packages (from llama-index-core<0.11.0,>=0.10.26->llama-index) (1.6.0)\n",
      "Requirement already satisfied: networkx>=3.0 in c:\\users\\hp\\anaconda3\\lib\\site-packages (from llama-index-core<0.11.0,>=0.10.26->llama-index) (3.1)\n",
      "Requirement already satisfied: nltk<4.0.0,>=3.8.1 in c:\\users\\hp\\anaconda3\\lib\\site-packages (from llama-index-core<0.11.0,>=0.10.26->llama-index) (3.8.1)\n",
      "Requirement already satisfied: numpy in c:\\users\\hp\\anaconda3\\lib\\site-packages (from llama-index-core<0.11.0,>=0.10.26->llama-index) (1.24.3)\n",
      "Requirement already satisfied: pandas in c:\\users\\hp\\anaconda3\\lib\\site-packages (from llama-index-core<0.11.0,>=0.10.26->llama-index) (2.2.1)\n",
      "Requirement already satisfied: pillow>=9.0.0 in c:\\users\\hp\\anaconda3\\lib\\site-packages (from llama-index-core<0.11.0,>=0.10.26->llama-index) (9.4.0)\n",
      "Requirement already satisfied: requests>=2.31.0 in c:\\users\\hp\\anaconda3\\lib\\site-packages (from llama-index-core<0.11.0,>=0.10.26->llama-index) (2.31.0)\n",
      "Requirement already satisfied: tenacity<9.0.0,>=8.2.0 in c:\\users\\hp\\anaconda3\\lib\\site-packages (from llama-index-core<0.11.0,>=0.10.26->llama-index) (8.2.2)\n",
      "Requirement already satisfied: tiktoken>=0.3.3 in c:\\users\\hp\\anaconda3\\lib\\site-packages (from llama-index-core<0.11.0,>=0.10.26->llama-index) (0.5.2)\n",
      "Requirement already satisfied: tqdm<5.0.0,>=4.66.1 in c:\\users\\hp\\anaconda3\\lib\\site-packages (from llama-index-core<0.11.0,>=0.10.26->llama-index) (4.66.2)\n",
      "Requirement already satisfied: typing-extensions>=4.5.0 in c:\\users\\hp\\anaconda3\\lib\\site-packages (from llama-index-core<0.11.0,>=0.10.26->llama-index) (4.10.0)\n",
      "Requirement already satisfied: typing-inspect>=0.8.0 in c:\\users\\hp\\anaconda3\\lib\\site-packages (from llama-index-core<0.11.0,>=0.10.26->llama-index) (0.9.0)\n",
      "Requirement already satisfied: wrapt in c:\\users\\hp\\anaconda3\\lib\\site-packages (from llama-index-core<0.11.0,>=0.10.26->llama-index) (1.14.1)\n",
      "Requirement already satisfied: beautifulsoup4<5.0.0,>=4.12.3 in c:\\users\\hp\\anaconda3\\lib\\site-packages (from llama-index-readers-file<0.2.0,>=0.1.4->llama-index) (4.12.3)\n",
      "Requirement already satisfied: pymupdf<2.0.0,>=1.23.21 in c:\\users\\hp\\anaconda3\\lib\\site-packages (from llama-index-readers-file<0.2.0,>=0.1.4->llama-index) (1.24.1)\n",
      "Requirement already satisfied: pypdf<5.0.0,>=4.0.1 in c:\\users\\hp\\anaconda3\\lib\\site-packages (from llama-index-readers-file<0.2.0,>=0.1.4->llama-index) (4.1.0)\n",
      "Requirement already satisfied: striprtf<0.0.27,>=0.0.26 in c:\\users\\hp\\anaconda3\\lib\\site-packages (from llama-index-readers-file<0.2.0,>=0.1.4->llama-index) (0.0.26)\n",
      "Requirement already satisfied: llama-parse<0.5.0,>=0.4.0 in c:\\users\\hp\\anaconda3\\lib\\site-packages (from llama-index-readers-llama-parse<0.2.0,>=0.1.2->llama-index) (0.4.0)\n",
      "Requirement already satisfied: aiosignal>=1.1.2 in c:\\users\\hp\\anaconda3\\lib\\site-packages (from aiohttp<4.0.0,>=3.8.6->llama-index-core<0.11.0,>=0.10.26->llama-index) (1.2.0)\n",
      "Requirement already satisfied: attrs>=17.3.0 in c:\\users\\hp\\anaconda3\\lib\\site-packages (from aiohttp<4.0.0,>=3.8.6->llama-index-core<0.11.0,>=0.10.26->llama-index) (22.1.0)\n",
      "Requirement already satisfied: frozenlist>=1.1.1 in c:\\users\\hp\\anaconda3\\lib\\site-packages (from aiohttp<4.0.0,>=3.8.6->llama-index-core<0.11.0,>=0.10.26->llama-index) (1.3.3)\n",
      "Requirement already satisfied: multidict<7.0,>=4.5 in c:\\users\\hp\\anaconda3\\lib\\site-packages (from aiohttp<4.0.0,>=3.8.6->llama-index-core<0.11.0,>=0.10.26->llama-index) (6.0.2)\n",
      "Requirement already satisfied: yarl<2.0,>=1.0 in c:\\users\\hp\\anaconda3\\lib\\site-packages (from aiohttp<4.0.0,>=3.8.6->llama-index-core<0.11.0,>=0.10.26->llama-index) (1.8.1)\n",
      "Requirement already satisfied: soupsieve>1.2 in c:\\users\\hp\\anaconda3\\lib\\site-packages (from beautifulsoup4<5.0.0,>=4.12.3->llama-index-readers-file<0.2.0,>=0.1.4->llama-index) (2.4)\n",
      "Requirement already satisfied: pydantic>=1.10 in c:\\users\\hp\\anaconda3\\lib\\site-packages (from llamaindex-py-client<0.2.0,>=0.1.15->llama-index-core<0.11.0,>=0.10.26->llama-index) (2.6.4)\n",
      "Requirement already satisfied: anyio in c:\\users\\hp\\anaconda3\\lib\\site-packages (from httpx->llama-index-core<0.11.0,>=0.10.26->llama-index) (3.5.0)\n",
      "Requirement already satisfied: certifi in c:\\users\\hp\\anaconda3\\lib\\site-packages (from httpx->llama-index-core<0.11.0,>=0.10.26->llama-index) (2023.7.22)\n",
      "Requirement already satisfied: httpcore==1.* in c:\\users\\hp\\anaconda3\\lib\\site-packages (from httpx->llama-index-core<0.11.0,>=0.10.26->llama-index) (1.0.4)\n",
      "Requirement already satisfied: idna in c:\\users\\hp\\anaconda3\\lib\\site-packages (from httpx->llama-index-core<0.11.0,>=0.10.26->llama-index) (3.4)\n",
      "Requirement already satisfied: sniffio in c:\\users\\hp\\anaconda3\\lib\\site-packages (from httpx->llama-index-core<0.11.0,>=0.10.26->llama-index) (1.2.0)\n",
      "Requirement already satisfied: h11<0.15,>=0.13 in c:\\users\\hp\\anaconda3\\lib\\site-packages (from httpcore==1.*->httpx->llama-index-core<0.11.0,>=0.10.26->llama-index) (0.14.0)\n",
      "Requirement already satisfied: click in c:\\users\\hp\\anaconda3\\lib\\site-packages (from nltk<4.0.0,>=3.8.1->llama-index-core<0.11.0,>=0.10.26->llama-index) (8.0.4)\n",
      "Requirement already satisfied: joblib in c:\\users\\hp\\anaconda3\\lib\\site-packages (from nltk<4.0.0,>=3.8.1->llama-index-core<0.11.0,>=0.10.26->llama-index) (1.2.0)\n",
      "Requirement already satisfied: regex>=2021.8.3 in c:\\users\\hp\\anaconda3\\lib\\site-packages (from nltk<4.0.0,>=3.8.1->llama-index-core<0.11.0,>=0.10.26->llama-index) (2022.7.9)\n",
      "Requirement already satisfied: distro<2,>=1.7.0 in c:\\users\\hp\\anaconda3\\lib\\site-packages (from openai>=1.14.0->llama-index-agent-openai<0.3.0,>=0.1.4->llama-index) (1.9.0)\n",
      "Requirement already satisfied: PyMuPDFb==1.24.1 in c:\\users\\hp\\anaconda3\\lib\\site-packages (from pymupdf<2.0.0,>=1.23.21->llama-index-readers-file<0.2.0,>=0.1.4->llama-index) (1.24.1)\n",
      "Requirement already satisfied: charset-normalizer<4,>=2 in c:\\users\\hp\\anaconda3\\lib\\site-packages (from requests>=2.31.0->llama-index-core<0.11.0,>=0.10.26->llama-index) (2.0.4)\n",
      "Requirement already satisfied: urllib3<3,>=1.21.1 in c:\\users\\hp\\anaconda3\\lib\\site-packages (from requests>=2.31.0->llama-index-core<0.11.0,>=0.10.26->llama-index) (1.26.16)\n",
      "Requirement already satisfied: greenlet!=0.4.17 in c:\\users\\hp\\anaconda3\\lib\\site-packages (from SQLAlchemy[asyncio]>=1.4.49->llama-index-core<0.11.0,>=0.10.26->llama-index) (2.0.1)\n",
      "Requirement already satisfied: colorama in c:\\users\\hp\\anaconda3\\lib\\site-packages (from tqdm<5.0.0,>=4.66.1->llama-index-core<0.11.0,>=0.10.26->llama-index) (0.4.6)\n",
      "Requirement already satisfied: mypy-extensions>=0.3.0 in c:\\users\\hp\\anaconda3\\lib\\site-packages (from typing-inspect>=0.8.0->llama-index-core<0.11.0,>=0.10.26->llama-index) (0.4.3)\n",
      "Requirement already satisfied: marshmallow<4.0.0,>=3.18.0 in c:\\users\\hp\\anaconda3\\lib\\site-packages (from dataclasses-json->llama-index-core<0.11.0,>=0.10.26->llama-index) (3.21.1)\n",
      "Requirement already satisfied: python-dateutil>=2.8.2 in c:\\users\\hp\\anaconda3\\lib\\site-packages (from pandas->llama-index-core<0.11.0,>=0.10.26->llama-index) (2.8.2)\n",
      "Requirement already satisfied: pytz>=2020.1 in c:\\users\\hp\\anaconda3\\lib\\site-packages (from pandas->llama-index-core<0.11.0,>=0.10.26->llama-index) (2022.7)\n",
      "Requirement already satisfied: tzdata>=2022.7 in c:\\users\\hp\\anaconda3\\lib\\site-packages (from pandas->llama-index-core<0.11.0,>=0.10.26->llama-index) (2024.1)\n",
      "Requirement already satisfied: packaging>=17.0 in c:\\users\\hp\\anaconda3\\lib\\site-packages (from marshmallow<4.0.0,>=3.18.0->dataclasses-json->llama-index-core<0.11.0,>=0.10.26->llama-index) (23.2)\n",
      "Requirement already satisfied: annotated-types>=0.4.0 in c:\\users\\hp\\anaconda3\\lib\\site-packages (from pydantic>=1.10->llamaindex-py-client<0.2.0,>=0.1.15->llama-index-core<0.11.0,>=0.10.26->llama-index) (0.6.0)\n",
      "Requirement already satisfied: pydantic-core==2.16.3 in c:\\users\\hp\\anaconda3\\lib\\site-packages (from pydantic>=1.10->llamaindex-py-client<0.2.0,>=0.1.15->llama-index-core<0.11.0,>=0.10.26->llama-index) (2.16.3)\n",
      "Requirement already satisfied: six>=1.5 in c:\\users\\hp\\anaconda3\\lib\\site-packages (from python-dateutil>=2.8.2->pandas->llama-index-core<0.11.0,>=0.10.26->llama-index) (1.16.0)\n",
      "Requirement already satisfied: llama-index-embeddings-huggingface in c:\\users\\hp\\anaconda3\\lib\\site-packages (0.2.0)\n",
      "Requirement already satisfied: huggingface-hub[inference]>=0.19.0 in c:\\users\\hp\\anaconda3\\lib\\site-packages (from llama-index-embeddings-huggingface) (0.22.2)\n",
      "Requirement already satisfied: llama-index-core<0.11.0,>=0.10.1 in c:\\users\\hp\\anaconda3\\lib\\site-packages (from llama-index-embeddings-huggingface) (0.10.26)\n",
      "Requirement already satisfied: sentence-transformers<3.0.0,>=2.6.1 in c:\\users\\hp\\anaconda3\\lib\\site-packages (from llama-index-embeddings-huggingface) (2.6.1)\n",
      "Requirement already satisfied: filelock in c:\\users\\hp\\anaconda3\\lib\\site-packages (from huggingface-hub[inference]>=0.19.0->llama-index-embeddings-huggingface) (3.13.3)\n",
      "Requirement already satisfied: fsspec>=2023.5.0 in c:\\users\\hp\\anaconda3\\lib\\site-packages (from huggingface-hub[inference]>=0.19.0->llama-index-embeddings-huggingface) (2024.3.1)\n",
      "Requirement already satisfied: packaging>=20.9 in c:\\users\\hp\\anaconda3\\lib\\site-packages (from huggingface-hub[inference]>=0.19.0->llama-index-embeddings-huggingface) (23.2)\n",
      "Requirement already satisfied: pyyaml>=5.1 in c:\\users\\hp\\anaconda3\\lib\\site-packages (from huggingface-hub[inference]>=0.19.0->llama-index-embeddings-huggingface) (6.0.1)\n",
      "Requirement already satisfied: requests in c:\\users\\hp\\anaconda3\\lib\\site-packages (from huggingface-hub[inference]>=0.19.0->llama-index-embeddings-huggingface) (2.31.0)\n",
      "Requirement already satisfied: tqdm>=4.42.1 in c:\\users\\hp\\anaconda3\\lib\\site-packages (from huggingface-hub[inference]>=0.19.0->llama-index-embeddings-huggingface) (4.66.2)\n",
      "Requirement already satisfied: typing-extensions>=3.7.4.3 in c:\\users\\hp\\anaconda3\\lib\\site-packages (from huggingface-hub[inference]>=0.19.0->llama-index-embeddings-huggingface) (4.10.0)\n",
      "Requirement already satisfied: aiohttp in c:\\users\\hp\\anaconda3\\lib\\site-packages (from huggingface-hub[inference]>=0.19.0->llama-index-embeddings-huggingface) (3.9.3)\n",
      "Requirement already satisfied: minijinja>=1.0 in c:\\users\\hp\\anaconda3\\lib\\site-packages (from huggingface-hub[inference]>=0.19.0->llama-index-embeddings-huggingface) (1.0.16)\n",
      "Requirement already satisfied: SQLAlchemy[asyncio]>=1.4.49 in c:\\users\\hp\\anaconda3\\lib\\site-packages (from llama-index-core<0.11.0,>=0.10.1->llama-index-embeddings-huggingface) (2.0.29)\n",
      "Requirement already satisfied: dataclasses-json in c:\\users\\hp\\anaconda3\\lib\\site-packages (from llama-index-core<0.11.0,>=0.10.1->llama-index-embeddings-huggingface) (0.6.4)\n",
      "Requirement already satisfied: deprecated>=1.2.9.3 in c:\\users\\hp\\anaconda3\\lib\\site-packages (from llama-index-core<0.11.0,>=0.10.1->llama-index-embeddings-huggingface) (1.2.14)\n",
      "Requirement already satisfied: dirtyjson<2.0.0,>=1.0.8 in c:\\users\\hp\\anaconda3\\lib\\site-packages (from llama-index-core<0.11.0,>=0.10.1->llama-index-embeddings-huggingface) (1.0.8)\n",
      "Requirement already satisfied: httpx in c:\\users\\hp\\anaconda3\\lib\\site-packages (from llama-index-core<0.11.0,>=0.10.1->llama-index-embeddings-huggingface) (0.27.0)\n",
      "Requirement already satisfied: llamaindex-py-client<0.2.0,>=0.1.15 in c:\\users\\hp\\anaconda3\\lib\\site-packages (from llama-index-core<0.11.0,>=0.10.1->llama-index-embeddings-huggingface) (0.1.16)\n",
      "Requirement already satisfied: nest-asyncio<2.0.0,>=1.5.8 in c:\\users\\hp\\anaconda3\\lib\\site-packages (from llama-index-core<0.11.0,>=0.10.1->llama-index-embeddings-huggingface) (1.6.0)\n",
      "Requirement already satisfied: networkx>=3.0 in c:\\users\\hp\\anaconda3\\lib\\site-packages (from llama-index-core<0.11.0,>=0.10.1->llama-index-embeddings-huggingface) (3.1)\n",
      "Requirement already satisfied: nltk<4.0.0,>=3.8.1 in c:\\users\\hp\\anaconda3\\lib\\site-packages (from llama-index-core<0.11.0,>=0.10.1->llama-index-embeddings-huggingface) (3.8.1)\n",
      "Requirement already satisfied: numpy in c:\\users\\hp\\anaconda3\\lib\\site-packages (from llama-index-core<0.11.0,>=0.10.1->llama-index-embeddings-huggingface) (1.24.3)\n",
      "Requirement already satisfied: openai>=1.1.0 in c:\\users\\hp\\anaconda3\\lib\\site-packages (from llama-index-core<0.11.0,>=0.10.1->llama-index-embeddings-huggingface) (1.16.2)\n",
      "Requirement already satisfied: pandas in c:\\users\\hp\\anaconda3\\lib\\site-packages (from llama-index-core<0.11.0,>=0.10.1->llama-index-embeddings-huggingface) (2.2.1)\n",
      "Requirement already satisfied: pillow>=9.0.0 in c:\\users\\hp\\anaconda3\\lib\\site-packages (from llama-index-core<0.11.0,>=0.10.1->llama-index-embeddings-huggingface) (9.4.0)\n",
      "Requirement already satisfied: tenacity<9.0.0,>=8.2.0 in c:\\users\\hp\\anaconda3\\lib\\site-packages (from llama-index-core<0.11.0,>=0.10.1->llama-index-embeddings-huggingface) (8.2.2)\n",
      "Requirement already satisfied: tiktoken>=0.3.3 in c:\\users\\hp\\anaconda3\\lib\\site-packages (from llama-index-core<0.11.0,>=0.10.1->llama-index-embeddings-huggingface) (0.5.2)\n",
      "Requirement already satisfied: typing-inspect>=0.8.0 in c:\\users\\hp\\anaconda3\\lib\\site-packages (from llama-index-core<0.11.0,>=0.10.1->llama-index-embeddings-huggingface) (0.9.0)\n",
      "Requirement already satisfied: wrapt in c:\\users\\hp\\anaconda3\\lib\\site-packages (from llama-index-core<0.11.0,>=0.10.1->llama-index-embeddings-huggingface) (1.14.1)\n",
      "Requirement already satisfied: transformers<5.0.0,>=4.32.0 in c:\\users\\hp\\anaconda3\\lib\\site-packages (from sentence-transformers<3.0.0,>=2.6.1->llama-index-embeddings-huggingface) (4.39.3)\n",
      "Requirement already satisfied: torch>=1.11.0 in c:\\users\\hp\\anaconda3\\lib\\site-packages (from sentence-transformers<3.0.0,>=2.6.1->llama-index-embeddings-huggingface) (2.2.0)\n",
      "Requirement already satisfied: scikit-learn in c:\\users\\hp\\anaconda3\\lib\\site-packages (from sentence-transformers<3.0.0,>=2.6.1->llama-index-embeddings-huggingface) (1.3.0)\n",
      "Requirement already satisfied: scipy in c:\\users\\hp\\anaconda3\\lib\\site-packages (from sentence-transformers<3.0.0,>=2.6.1->llama-index-embeddings-huggingface) (1.10.1)\n",
      "Requirement already satisfied: aiosignal>=1.1.2 in c:\\users\\hp\\anaconda3\\lib\\site-packages (from aiohttp->huggingface-hub[inference]>=0.19.0->llama-index-embeddings-huggingface) (1.2.0)\n",
      "Requirement already satisfied: attrs>=17.3.0 in c:\\users\\hp\\anaconda3\\lib\\site-packages (from aiohttp->huggingface-hub[inference]>=0.19.0->llama-index-embeddings-huggingface) (22.1.0)\n",
      "Requirement already satisfied: frozenlist>=1.1.1 in c:\\users\\hp\\anaconda3\\lib\\site-packages (from aiohttp->huggingface-hub[inference]>=0.19.0->llama-index-embeddings-huggingface) (1.3.3)\n",
      "Requirement already satisfied: multidict<7.0,>=4.5 in c:\\users\\hp\\anaconda3\\lib\\site-packages (from aiohttp->huggingface-hub[inference]>=0.19.0->llama-index-embeddings-huggingface) (6.0.2)\n",
      "Requirement already satisfied: yarl<2.0,>=1.0 in c:\\users\\hp\\anaconda3\\lib\\site-packages (from aiohttp->huggingface-hub[inference]>=0.19.0->llama-index-embeddings-huggingface) (1.8.1)\n",
      "Requirement already satisfied: pydantic>=1.10 in c:\\users\\hp\\anaconda3\\lib\\site-packages (from llamaindex-py-client<0.2.0,>=0.1.15->llama-index-core<0.11.0,>=0.10.1->llama-index-embeddings-huggingface) (2.6.4)\n",
      "Requirement already satisfied: anyio in c:\\users\\hp\\anaconda3\\lib\\site-packages (from httpx->llama-index-core<0.11.0,>=0.10.1->llama-index-embeddings-huggingface) (3.5.0)\n",
      "Requirement already satisfied: certifi in c:\\users\\hp\\anaconda3\\lib\\site-packages (from httpx->llama-index-core<0.11.0,>=0.10.1->llama-index-embeddings-huggingface) (2023.7.22)\n",
      "Requirement already satisfied: httpcore==1.* in c:\\users\\hp\\anaconda3\\lib\\site-packages (from httpx->llama-index-core<0.11.0,>=0.10.1->llama-index-embeddings-huggingface) (1.0.4)\n",
      "Requirement already satisfied: idna in c:\\users\\hp\\anaconda3\\lib\\site-packages (from httpx->llama-index-core<0.11.0,>=0.10.1->llama-index-embeddings-huggingface) (3.4)\n",
      "Requirement already satisfied: sniffio in c:\\users\\hp\\anaconda3\\lib\\site-packages (from httpx->llama-index-core<0.11.0,>=0.10.1->llama-index-embeddings-huggingface) (1.2.0)\n",
      "Requirement already satisfied: h11<0.15,>=0.13 in c:\\users\\hp\\anaconda3\\lib\\site-packages (from httpcore==1.*->httpx->llama-index-core<0.11.0,>=0.10.1->llama-index-embeddings-huggingface) (0.14.0)\n",
      "Requirement already satisfied: click in c:\\users\\hp\\anaconda3\\lib\\site-packages (from nltk<4.0.0,>=3.8.1->llama-index-core<0.11.0,>=0.10.1->llama-index-embeddings-huggingface) (8.0.4)\n",
      "Requirement already satisfied: joblib in c:\\users\\hp\\anaconda3\\lib\\site-packages (from nltk<4.0.0,>=3.8.1->llama-index-core<0.11.0,>=0.10.1->llama-index-embeddings-huggingface) (1.2.0)\n",
      "Requirement already satisfied: regex>=2021.8.3 in c:\\users\\hp\\anaconda3\\lib\\site-packages (from nltk<4.0.0,>=3.8.1->llama-index-core<0.11.0,>=0.10.1->llama-index-embeddings-huggingface) (2022.7.9)\n",
      "Requirement already satisfied: distro<2,>=1.7.0 in c:\\users\\hp\\anaconda3\\lib\\site-packages (from openai>=1.1.0->llama-index-core<0.11.0,>=0.10.1->llama-index-embeddings-huggingface) (1.9.0)\n",
      "Requirement already satisfied: charset-normalizer<4,>=2 in c:\\users\\hp\\anaconda3\\lib\\site-packages (from requests->huggingface-hub[inference]>=0.19.0->llama-index-embeddings-huggingface) (2.0.4)\n",
      "Requirement already satisfied: urllib3<3,>=1.21.1 in c:\\users\\hp\\anaconda3\\lib\\site-packages (from requests->huggingface-hub[inference]>=0.19.0->llama-index-embeddings-huggingface) (1.26.16)\n",
      "Requirement already satisfied: greenlet!=0.4.17 in c:\\users\\hp\\anaconda3\\lib\\site-packages (from SQLAlchemy[asyncio]>=1.4.49->llama-index-core<0.11.0,>=0.10.1->llama-index-embeddings-huggingface) (2.0.1)\n",
      "Requirement already satisfied: sympy in c:\\users\\hp\\anaconda3\\lib\\site-packages (from torch>=1.11.0->sentence-transformers<3.0.0,>=2.6.1->llama-index-embeddings-huggingface) (1.11.1)\n",
      "Requirement already satisfied: jinja2 in c:\\users\\hp\\anaconda3\\lib\\site-packages (from torch>=1.11.0->sentence-transformers<3.0.0,>=2.6.1->llama-index-embeddings-huggingface) (3.1.2)\n",
      "Requirement already satisfied: colorama in c:\\users\\hp\\anaconda3\\lib\\site-packages (from tqdm>=4.42.1->huggingface-hub[inference]>=0.19.0->llama-index-embeddings-huggingface) (0.4.6)\n",
      "Requirement already satisfied: tokenizers<0.19,>=0.14 in c:\\users\\hp\\anaconda3\\lib\\site-packages (from transformers<5.0.0,>=4.32.0->sentence-transformers<3.0.0,>=2.6.1->llama-index-embeddings-huggingface) (0.15.2)\n",
      "Requirement already satisfied: safetensors>=0.4.1 in c:\\users\\hp\\anaconda3\\lib\\site-packages (from transformers<5.0.0,>=4.32.0->sentence-transformers<3.0.0,>=2.6.1->llama-index-embeddings-huggingface) (0.4.2)\n",
      "Requirement already satisfied: mypy-extensions>=0.3.0 in c:\\users\\hp\\anaconda3\\lib\\site-packages (from typing-inspect>=0.8.0->llama-index-core<0.11.0,>=0.10.1->llama-index-embeddings-huggingface) (0.4.3)\n",
      "Requirement already satisfied: marshmallow<4.0.0,>=3.18.0 in c:\\users\\hp\\anaconda3\\lib\\site-packages (from dataclasses-json->llama-index-core<0.11.0,>=0.10.1->llama-index-embeddings-huggingface) (3.21.1)\n",
      "Requirement already satisfied: python-dateutil>=2.8.2 in c:\\users\\hp\\anaconda3\\lib\\site-packages (from pandas->llama-index-core<0.11.0,>=0.10.1->llama-index-embeddings-huggingface) (2.8.2)\n",
      "Requirement already satisfied: pytz>=2020.1 in c:\\users\\hp\\anaconda3\\lib\\site-packages (from pandas->llama-index-core<0.11.0,>=0.10.1->llama-index-embeddings-huggingface) (2022.7)\n",
      "Requirement already satisfied: tzdata>=2022.7 in c:\\users\\hp\\anaconda3\\lib\\site-packages (from pandas->llama-index-core<0.11.0,>=0.10.1->llama-index-embeddings-huggingface) (2024.1)\n",
      "Requirement already satisfied: threadpoolctl>=2.0.0 in c:\\users\\hp\\anaconda3\\lib\\site-packages (from scikit-learn->sentence-transformers<3.0.0,>=2.6.1->llama-index-embeddings-huggingface) (2.2.0)\n",
      "Requirement already satisfied: annotated-types>=0.4.0 in c:\\users\\hp\\anaconda3\\lib\\site-packages (from pydantic>=1.10->llamaindex-py-client<0.2.0,>=0.1.15->llama-index-core<0.11.0,>=0.10.1->llama-index-embeddings-huggingface) (0.6.0)\n",
      "Requirement already satisfied: pydantic-core==2.16.3 in c:\\users\\hp\\anaconda3\\lib\\site-packages (from pydantic>=1.10->llamaindex-py-client<0.2.0,>=0.1.15->llama-index-core<0.11.0,>=0.10.1->llama-index-embeddings-huggingface) (2.16.3)\n",
      "Requirement already satisfied: six>=1.5 in c:\\users\\hp\\anaconda3\\lib\\site-packages (from python-dateutil>=2.8.2->pandas->llama-index-core<0.11.0,>=0.10.1->llama-index-embeddings-huggingface) (1.16.0)\n",
      "Requirement already satisfied: MarkupSafe>=2.0 in c:\\users\\hp\\anaconda3\\lib\\site-packages (from jinja2->torch>=1.11.0->sentence-transformers<3.0.0,>=2.6.1->llama-index-embeddings-huggingface) (2.1.1)\n",
      "Requirement already satisfied: mpmath>=0.19 in c:\\users\\hp\\anaconda3\\lib\\site-packages (from sympy->torch>=1.11.0->sentence-transformers<3.0.0,>=2.6.1->llama-index-embeddings-huggingface) (1.3.0)\n",
      "Requirement already satisfied: peft in c:\\users\\hp\\anaconda3\\lib\\site-packages (0.10.0)\n",
      "Requirement already satisfied: numpy>=1.17 in c:\\users\\hp\\anaconda3\\lib\\site-packages (from peft) (1.24.3)\n",
      "Requirement already satisfied: packaging>=20.0 in c:\\users\\hp\\anaconda3\\lib\\site-packages (from peft) (23.2)\n",
      "Requirement already satisfied: psutil in c:\\users\\hp\\anaconda3\\lib\\site-packages (from peft) (5.9.0)\n",
      "Requirement already satisfied: pyyaml in c:\\users\\hp\\anaconda3\\lib\\site-packages (from peft) (6.0.1)\n",
      "Requirement already satisfied: torch>=1.13.0 in c:\\users\\hp\\anaconda3\\lib\\site-packages (from peft) (2.2.0)\n",
      "Requirement already satisfied: transformers in c:\\users\\hp\\anaconda3\\lib\\site-packages (from peft) (4.39.3)\n",
      "Requirement already satisfied: tqdm in c:\\users\\hp\\anaconda3\\lib\\site-packages (from peft) (4.66.2)\n",
      "Requirement already satisfied: accelerate>=0.21.0 in c:\\users\\hp\\anaconda3\\lib\\site-packages (from peft) (0.29.1)\n",
      "Requirement already satisfied: safetensors in c:\\users\\hp\\anaconda3\\lib\\site-packages (from peft) (0.4.2)\n",
      "Requirement already satisfied: huggingface-hub>=0.17.0 in c:\\users\\hp\\anaconda3\\lib\\site-packages (from peft) (0.22.2)\n",
      "Requirement already satisfied: filelock in c:\\users\\hp\\anaconda3\\lib\\site-packages (from huggingface-hub>=0.17.0->peft) (3.13.3)\n",
      "Requirement already satisfied: fsspec>=2023.5.0 in c:\\users\\hp\\anaconda3\\lib\\site-packages (from huggingface-hub>=0.17.0->peft) (2024.3.1)\n",
      "Requirement already satisfied: requests in c:\\users\\hp\\anaconda3\\lib\\site-packages (from huggingface-hub>=0.17.0->peft) (2.31.0)\n",
      "Requirement already satisfied: typing-extensions>=3.7.4.3 in c:\\users\\hp\\anaconda3\\lib\\site-packages (from huggingface-hub>=0.17.0->peft) (4.10.0)\n",
      "Requirement already satisfied: sympy in c:\\users\\hp\\anaconda3\\lib\\site-packages (from torch>=1.13.0->peft) (1.11.1)\n",
      "Requirement already satisfied: networkx in c:\\users\\hp\\anaconda3\\lib\\site-packages (from torch>=1.13.0->peft) (3.1)\n",
      "Requirement already satisfied: jinja2 in c:\\users\\hp\\anaconda3\\lib\\site-packages (from torch>=1.13.0->peft) (3.1.2)\n",
      "Requirement already satisfied: colorama in c:\\users\\hp\\anaconda3\\lib\\site-packages (from tqdm->peft) (0.4.6)\n",
      "Requirement already satisfied: regex!=2019.12.17 in c:\\users\\hp\\anaconda3\\lib\\site-packages (from transformers->peft) (2022.7.9)\n",
      "Requirement already satisfied: tokenizers<0.19,>=0.14 in c:\\users\\hp\\anaconda3\\lib\\site-packages (from transformers->peft) (0.15.2)\n",
      "Requirement already satisfied: MarkupSafe>=2.0 in c:\\users\\hp\\anaconda3\\lib\\site-packages (from jinja2->torch>=1.13.0->peft) (2.1.1)\n",
      "Requirement already satisfied: charset-normalizer<4,>=2 in c:\\users\\hp\\anaconda3\\lib\\site-packages (from requests->huggingface-hub>=0.17.0->peft) (2.0.4)\n",
      "Requirement already satisfied: idna<4,>=2.5 in c:\\users\\hp\\anaconda3\\lib\\site-packages (from requests->huggingface-hub>=0.17.0->peft) (3.4)\n",
      "Requirement already satisfied: urllib3<3,>=1.21.1 in c:\\users\\hp\\anaconda3\\lib\\site-packages (from requests->huggingface-hub>=0.17.0->peft) (1.26.16)\n",
      "Requirement already satisfied: certifi>=2017.4.17 in c:\\users\\hp\\anaconda3\\lib\\site-packages (from requests->huggingface-hub>=0.17.0->peft) (2023.7.22)\n",
      "Requirement already satisfied: mpmath>=0.19 in c:\\users\\hp\\anaconda3\\lib\\site-packages (from sympy->torch>=1.13.0->peft) (1.3.0)\n"
     ]
    }
   ],
   "source": [
    "!pip install llama-index\n",
    "!pip install llama-index-embeddings-huggingface\n",
    "!pip install peft"
   ]
  },
  {
   "cell_type": "code",
   "execution_count": 9,
   "id": "04193ff8",
   "metadata": {},
   "outputs": [
    {
     "name": "stderr",
     "output_type": "stream",
     "text": [
      "C:\\Users\\hp\\anaconda3\\Lib\\site-packages\\pandas\\core\\arrays\\masked.py:60: UserWarning: Pandas requires version '1.3.6' or newer of 'bottleneck' (version '1.3.5' currently installed).\n",
      "  from pandas.core import (\n"
     ]
    }
   ],
   "source": [
    "from llama_index.embeddings.huggingface import HuggingFaceEmbedding\n",
    "from llama_index.core import Settings, SimpleDirectoryReader, VectorStoreIndex\n",
    "from llama_index.core.retrievers import VectorIndexRetriever\n",
    "from llama_index.core.query_engine import RetrieverQueryEngine\n",
    "from llama_index.core.postprocessor import SimilarityPostprocessor"
   ]
  },
  {
   "cell_type": "code",
   "execution_count": 10,
   "id": "c6c35f5f",
   "metadata": {},
   "outputs": [],
   "source": [
    "llama_doc = SimpleDirectoryReader(r\"C:\\Users\\hp\\Downloads\\ayur_llama\").load_data()"
   ]
  },
  {
   "cell_type": "code",
   "execution_count": 11,
   "id": "ae967fe4",
   "metadata": {},
   "outputs": [
    {
     "data": {
      "text/plain": [
       "list"
      ]
     },
     "execution_count": 11,
     "metadata": {},
     "output_type": "execute_result"
    }
   ],
   "source": [
    "type(llama_doc)"
   ]
  },
  {
   "cell_type": "code",
   "execution_count": 12,
   "id": "a35d6e7e",
   "metadata": {},
   "outputs": [
    {
     "data": {
      "text/plain": [
       "[Document(id_='1162a31f-01e1-4ca5-a3b7-404a865f1c0a', embedding=None, metadata={'page_label': '1', 'file_name': 'Ayurvedic Dataset.pdf', 'file_path': 'C:\\\\Users\\\\hp\\\\Downloads\\\\ayur_llama\\\\Ayurvedic Dataset.pdf', 'file_type': 'application/pdf', 'file_size': 135118, 'creation_date': '2024-04-07', 'last_modified_date': '2024-04-04'}, excluded_embed_metadata_keys=['file_name', 'file_type', 'file_size', 'creation_date', 'last_modified_date', 'last_accessed_date'], excluded_llm_metadata_keys=['file_name', 'file_type', 'file_size', 'creation_date', 'last_modified_date', 'last_accessed_date'], relationships={}, text='Ayurveda\\nfor\\ncommon\\ncold:\\nCommon\\nCold\\nis\\nrelatively\\nharmless\\ncondition.\\nIt\\ncan\\noccur\\nat\\nany\\ntime\\nthroughout\\nthe\\nyear\\nbut\\nthe\\nmost\\ncommon\\nare\\nin\\nlate\\nwinter\\nand\\nfall.\\nIt\\nis\\nmost\\ncommon\\nin\\nchildren.\\nThis\\ncondition\\nacts\\nas\\na\\ngateway\\nto\\nmany\\nother\\nrespiratory\\nproblems.\\nIt’s\\ncalled\\nthe\\n\"common\\ncold\"\\nbecause\\nyou\\nmay\\nfeel\\ncolder\\nin\\nthis\\nailment,\\nthan\\nany\\nother\\ntype\\nof\\nillness.\\nHowever ,\\nit\\nshould\\nnot\\nbe\\nneglected.\\nSymptoms\\nof\\ncommon\\ncold\\nSome\\nof\\nthe\\ncommon\\nsymptoms\\nare\\nlisted\\nbelow:\\n●\\nRunning\\nor\\nBlocked\\nNose.\\n●\\nSore/\\nScratchy\\nthroat.\\n●\\nSneezing.\\n●\\nFatigue.\\n●\\nMuscle\\nAches.\\n●\\nLoss\\nof\\nAppetite.\\n●\\nCough.\\n●\\nHeadache.\\n●\\nMild\\nfever\\nwith\\nchills\\nCommon\\nremedies\\n●\\nLeaves\\nof\\nholy\\nbasil\\n(Tulsi)\\nplant\\nmixed\\nwith\\nan\\nequal\\nquantity\\nof\\ndried\\nginger\\npowder\\nform\\nan\\nexcellent\\nsubstitute\\nfor\\ntea\\nduring\\ncold\\nand\\nflu.\\nThis\\nmay\\nbe\\ntaken\\nby\\nadding\\nmilk\\nand\\nsugar\\nthree\\ntimes\\na\\nday.\\n●\\nJuice\\nof\\nginger\\n(Adrak)\\nand\\nholy\\nbasil\\n(Tulsi)\\none-one\\ntea\\nspoon\\n(5\\nml.)\\nmixed\\nwith\\none\\ntea\\nspoon\\n(5\\nml.)\\nhoney ,\\nto\\nbe\\ntaken\\ntwo-three\\ntimes\\na\\nday.\\n●\\nPowder\\nof\\nblack\\npepper\\n(marich)\\nhalf\\ntea\\nspoon\\n(2.5\\nml.)\\nmixed\\nwith\\njaggery\\n(guda)\\ntwo\\ntimes\\na\\nday.\\n●\\nSmall\\npiece\\nof\\nGinger\\n(Adraka)\\nfried\\nin\\nghee,\\nto\\nbe\\ntaken\\ntwo\\ntimes\\na\\nday.\\n●\\nOne\\nteaspoonful\\nof\\nthe\\npowder\\nor\\npaste\\nof\\nturmeric\\nto\\na\\ncup\\nof\\nmilk\\nor\\nfried\\nturmeric\\npowder\\ntaken\\nwith\\n1-2\\ngm\\nof\\nghee\\nmixed\\nwith\\nhot\\nmilk\\nthrice\\na\\nday.\\nThis\\ngives\\nimmediate\\nrelief\\nand\\nhelp\\nin\\nearly\\nrecovery .\\n●\\nGargle\\nwith\\nwarm\\nturmeric\\npowder\\n2-3\\ntimes\\na\\nday\\nto\\nrelieve\\nsore\\nthroat.\\n●\\nDrink\\na\\nglass\\nof\\nhot\\nwater\\nmixed\\nwith\\nthe\\njuice\\nof\\ntwo\\nlemons\\nand\\nsugar\\nto\\ntaste.\\nTake\\nthe\\nsame\\nat\\nbedtime\\nas\\nit\\ngives\\nrelief\\nfrom\\nnasal\\ncatarrh.\\n●\\nTwo\\nto\\nthree\\ntea\\nspoon\\n(10-15\\nml.)\\nof\\nfresh\\njuice\\nof\\nAmla\\nor\\nhalf\\nto\\none\\ntea\\nspoon\\n(2.5-5\\ngm)\\npowder\\nof\\nthe\\nsame\\nis\\nideal\\nto\\ncontrol\\ncold.\\nPrevention\\nand\\nSelf-care\\nThere\\nare\\nseveral\\nways\\nin\\nwhich\\nyou\\ncan\\nkeep\\nthe\\nintensity\\nof\\ncondition\\nlevels\\nlow.', start_char_idx=None, end_char_idx=None, text_template='{metadata_str}\\n\\n{content}', metadata_template='{key}: {value}', metadata_seperator='\\n'),\n",
       " Document(id_='afcef84d-7c3a-4780-a292-df04d0c7e16d', embedding=None, metadata={'page_label': '2', 'file_name': 'Ayurvedic Dataset.pdf', 'file_path': 'C:\\\\Users\\\\hp\\\\Downloads\\\\ayur_llama\\\\Ayurvedic Dataset.pdf', 'file_type': 'application/pdf', 'file_size': 135118, 'creation_date': '2024-04-07', 'last_modified_date': '2024-04-04'}, excluded_embed_metadata_keys=['file_name', 'file_type', 'file_size', 'creation_date', 'last_modified_date', 'last_accessed_date'], excluded_llm_metadata_keys=['file_name', 'file_type', 'file_size', 'creation_date', 'last_modified_date', 'last_accessed_date'], relationships={}, text='●\\nInhale\\nsteam\\nto\\nrelieve\\na\\nstuffed\\nnose.\\nAdd\\na\\nfew\\ndrops\\nof\\neucalyptus\\noil\\nin\\na\\nbowl\\nof\\nhot\\nwater .\\nCover\\nyour\\nhead\\nand\\nthe\\nbowl\\nwith\\na\\ntowel\\nfor\\nfew\\nminutes\\nat\\na\\ntime.\\nBe\\ncareful\\nthat\\nthe\\nwater\\nis\\nnot\\nso\\nhot\\nthat\\nthe\\nsteam\\nburns\\nyour\\nface.\\n●\\nStrengthen\\nyour\\nimmune\\nsystem\\nand\\nkeep\\nyourself\\nhealthy .\\nTwo\\nplants\\nthat\\nwill\\nhelp\\nyou\\nstrengthen\\nyour\\nimmune\\nsystem\\nare\\nAmla\\nand\\nTulsi\\nwhich\\nmay\\nbe\\nused.\\n●\\nDo\\nnot\\nover\\nheat\\nthe\\nroom.\\nLet\\nthe\\nbody\\nlose\\nheat\\nnaturally .\\n●\\nKeep\\naway\\nfrom\\nothers\\nwho\\nare\\ninfected\\nwith\\ncold.\\n●\\nEat\\na\\nwell\\nbalanced\\ndiet\\nand\\nget\\nenough\\nrest.\\nTake\\nplenty\\nof\\nhot\\nbeverages.\\nCare\\nof\\nNew\\nBorn\\nduring\\ncoughs\\n&\\ncolds\\nto\\navoid\\nAcute\\nRespiratory\\nInfections\\n●\\nSooth\\nthe\\nthroat\\nand\\nrelieve\\ncough\\nwith\\na\\nhome\\nremedy\\nsuch\\nas\\nlemon\\nwith\\nhoney ,\\nginger ,\\ntulsi,\\nwarm\\nwater\\netc.\\n●\\nAbove\\nmentioned\\nremedies\\nmay\\nbe\\nused\\nin\\nsmall\\ndoses.\\n-\\nFor\\nsore\\nthroat\\nCough\\nand\\nother\\nthroat\\nrelated\\nproblems\\nits\\nbetter\\nto\\nchew\\nor\\nmunch\\nfew\\nBetel\\nLeaves\\nIts\\npeppy\\ntaste\\nwill\\ndefinitely\\ncure\\nthroat\\nproblems\\nAyurveda\\nfor\\nconstipation:\\n1.\\nKabja/\\nVibandha\\n2.\\nHome\\nRemedies\\n3.\\nDiet\\nconsideration\\nKabja/\\nVibandha\\nThere\\nare\\nseveral\\ncauses\\nfor\\nconstipation\\nlike\\n●\\nhabit\\nof\\nsuppressing\\nthe\\nurge\\nover\\nlong\\nperiods\\n●\\nabsence\\nor\\nnon-availability\\nof\\narticles\\nhabitually\\nused\\nbefore\\ndefecation,\\nsuch\\nas\\ndrinking\\ncoffee\\nor\\ntea\\n●\\nhabituated\\nuse\\nof\\nlaxatives.\\nHome\\nRemedies\\n●\\nTriphala\\npowder\\nis\\nvery\\npopularly\\nused\\nfor\\nthis\\ncondition.\\nIt\\ncontains\\nthree\\ndrugs\\nnamely\\n-\\nHaritaki\\n(Harada),\\nVibhitaki\\n(Baheda)\\nand\\nAmalaki\\n(Amla).\\n5gm\\nof\\nthis\\npowder\\n(1\\ntea\\nspoon)\\nshould\\nbe\\ntaken\\nwith\\nluke\\nwarm\\nwater\\nat\\nbed\\ntime.', start_char_idx=None, end_char_idx=None, text_template='{metadata_str}\\n\\n{content}', metadata_template='{key}: {value}', metadata_seperator='\\n'),\n",
       " Document(id_='c255a4fe-39ef-4b3d-974f-3255478d556b', embedding=None, metadata={'page_label': '3', 'file_name': 'Ayurvedic Dataset.pdf', 'file_path': 'C:\\\\Users\\\\hp\\\\Downloads\\\\ayur_llama\\\\Ayurvedic Dataset.pdf', 'file_type': 'application/pdf', 'file_size': 135118, 'creation_date': '2024-04-07', 'last_modified_date': '2024-04-04'}, excluded_embed_metadata_keys=['file_name', 'file_type', 'file_size', 'creation_date', 'last_modified_date', 'last_accessed_date'], excluded_llm_metadata_keys=['file_name', 'file_type', 'file_size', 'creation_date', 'last_modified_date', 'last_accessed_date'], relationships={}, text='●\\nThe\\nbest\\nto\\nevacuate\\nin\\nchronic\\ncondition\\nis\\ncastor\\noil.\\nThe\\ncastor\\noil\\nused\\nshould\\nbe\\npurified\\nand\\ndiluted.\\nThe\\n4-6\\ntea\\nspoon\\n(20-30\\nml.)\\nof\\nthis\\noil\\nis\\nto\\nbe\\ntaken\\nwith\\nwarm\\nmilk.\\n●\\n1\\nTeaspoonful\\nof\\nSana\\nleaves\\n(Sanay)\\nin\\n1\\ncup\\nof\\nhot\\nmilk\\nat\\nbedtime\\nis\\nan\\neasy\\nmethod\\nto\\nrelieve\\nconstipation.\\nDiet\\nconsideration\\n●\\nDrink\\na\\nglass\\nof\\nwater\\nearly\\nin\\nthe\\nmorning\\nafter\\nwashing\\nthe\\nface\\nand\\nmouth.\\n●\\nIt\\nis\\na\\nbetter\\nidea,\\nif\\nyou\\ncan\\ntake\\na\\nglass\\nof\\nwarm\\nmilk\\nat\\nbedtime\\nafter\\nadding\\na\\nteaspoonful\\nof\\nghee\\nto\\nit.\\n●\\nBeans,\\ndry\\ngrains,\\ncabbage,\\nmushrooms\\nand\\nother\\ndry\\nfood\\nshould\\nbe\\navoided.\\n●\\nSpices,\\nwhich\\nbalance\\ndigestion-\\nasafoetida\\n(Hing),\\nGinger\\n(Adraka),\\nCardamom\\n(Elayachi)\\nor\\nFennel\\n(Saunf),\\nshould\\nbe\\ntaken\\nwith\\nfood\\nto\\nalleviate\\nand\\npromote\\nthe\\ndownward\\nmovement\\nof\\ngas.\\n●\\nTry\\nto\\navoid\\nhot\\nand\\nspicy\\nfood\\nand\\nadequate\\nfluids\\nshould\\nbe\\ntaken.\\n●\\nEat\\nplenty\\nof\\nfruits\\nand\\nleafy\\nvegetables\\nas\\nPapaya\\nand\\nsugarcane\\nare\\nvery\\neffective\\nin\\nrelieving\\nconstipation.\\n●\\nUse\\nwhole\\nwheat\\nflour\\nand\\nnot\\nrefined\\nflour .\\nAyurveda\\nfor\\nHyperacidity:\\nHyperacidity\\n(Amlapitta)\\nHyperacidity\\n(Amlapitta)\\nis\\none\\nof\\nthe\\nmost\\ncommon\\ndisease\\nseen\\nin\\nthe\\nsociety .\\nIt\\nis\\nseen\\nin\\nall\\nages,\\nall\\nclasses,\\nand\\nall\\ncommunity .\\nHyperacidity\\nrefers\\nto\\na\\nset\\nof\\nsymptoms\\ncaused\\nby\\nan\\nimbalance\\nbetween\\nthe\\nacid\\nsecreting\\nmechanism\\nof\\nthe\\nstomach\\nand\\nproximal\\nintestine\\nand\\nthe\\nprotective\\nmechanisms\\nthat\\nensure\\ntheir\\nsafety .\\nThe\\nstomach\\nnormally\\nsecretes\\nacid\\nthat\\nis\\nessential\\nin\\nthe\\ndigestive\\nprocess.\\nWhen\\nthere\\nis\\nexcess\\nproduction\\nof\\nacid\\nin\\nthe\\nstomach,\\nit\\nresults\\nin\\nthe\\ncondition\\nknown\\nas\\nacidity .\\nCauses', start_char_idx=None, end_char_idx=None, text_template='{metadata_str}\\n\\n{content}', metadata_template='{key}: {value}', metadata_seperator='\\n'),\n",
       " Document(id_='1c22e223-4e8e-4e10-9b01-56288bda63e1', embedding=None, metadata={'page_label': '4', 'file_name': 'Ayurvedic Dataset.pdf', 'file_path': 'C:\\\\Users\\\\hp\\\\Downloads\\\\ayur_llama\\\\Ayurvedic Dataset.pdf', 'file_type': 'application/pdf', 'file_size': 135118, 'creation_date': '2024-04-07', 'last_modified_date': '2024-04-04'}, excluded_embed_metadata_keys=['file_name', 'file_type', 'file_size', 'creation_date', 'last_modified_date', 'last_accessed_date'], excluded_llm_metadata_keys=['file_name', 'file_type', 'file_size', 'creation_date', 'last_modified_date', 'last_accessed_date'], relationships={}, text='‘Hurry’,\\n‘Worry’,\\nand\\n‘Curry’\\nare\\nthe\\nthree\\nmain\\nreasons\\nfor\\nthe\\ndisease.\\nDiet\\n(Ahara)\\n●\\nSpicy\\nfood\\nhabits\\nlike\\neating\\nsamosa,\\nburger ,\\npizza,\\netc.\\n●\\nExcessive\\nuse\\nof\\nchilly ,\\nCinnamon,\\nclove,\\nmustard,\\ngaram\\nmasala\\npowder\\n(spice\\nmixture),\\ngarlic\\netc.\\nin\\ndiet\\n●\\nSalty\\nand\\nsour\\nfoods\\nlike\\nchips\\n●\\nEating\\nof\\nstale,\\nfermented\\nfoods\\n(dosa,\\nuttappa,\\nidli\\netc.\\nbakery\\nfood\\nitems).\\n●\\nExcessive\\nintake\\nof\\nfast\\nfood\\n●\\nExcessive\\nintake\\nof\\nOily\\nfoods,\\npickles\\n●\\nIntake\\nof\\nfood\\nand\\nbeverages\\nin\\nits\\nhot\\ncondition\\nlike\\nsoups\\n●\\nExcessive\\nintake\\nof\\ntea/cof fee.\\n●\\nLesser\\nintake\\nof\\nwater ,\\ndry\\nfood\\n●\\nIrregular\\nmeal\\ntimes\\n●\\nRepeated\\nfood\\nintake\\n(before\\nthe\\ndigestion\\nof\\nthe\\npreviously\\ntaken\\nfood)\\n●\\nIncompatible\\nfood\\nlike\\ntaking\\nnon-veg.,\\npizza\\nfollowed\\nby\\nmilk\\nshake.\\n●\\nSkipping\\nmeals.\\n●\\nEating\\ntoo\\nlate\\nat\\nnight\\nRegimens\\n(Vihara)\\n●\\nLack\\nof\\nrest,\\nfast\\nmoving\\nlifestyle.\\n●\\nInsuf ficient\\nsleep\\nat\\nnight.\\n●\\nSleeping\\nimmediately\\nafter\\nmeals.\\n●\\nSuppression\\nof\\nnatural\\nurges.\\n●\\nExcessive\\nexposure\\nto\\nsun\\nand\\nfire\\nMental\\nfactors\\n●\\nStressful\\nlife\\nstyle\\n●\\nExcessive\\nanxiety ,\\nworry ,\\njealousy ,\\nanger ,\\nfear\\n●\\nJob\\ndissatisfaction\\nAll\\nthe\\nabove\\nfactors\\nresult\\nin\\nexcessive\\nincrease\\nof\\n‘Pitta\\ndosha’\\nin\\nbody\\nand\\nexhibits\\nsymptoms\\nof\\namlapitta.', start_char_idx=None, end_char_idx=None, text_template='{metadata_str}\\n\\n{content}', metadata_template='{key}: {value}', metadata_seperator='\\n'),\n",
       " Document(id_='9e75f2f2-5c91-4272-b769-bfc4e0c9c9e1', embedding=None, metadata={'page_label': '5', 'file_name': 'Ayurvedic Dataset.pdf', 'file_path': 'C:\\\\Users\\\\hp\\\\Downloads\\\\ayur_llama\\\\Ayurvedic Dataset.pdf', 'file_type': 'application/pdf', 'file_size': 135118, 'creation_date': '2024-04-07', 'last_modified_date': '2024-04-04'}, excluded_embed_metadata_keys=['file_name', 'file_type', 'file_size', 'creation_date', 'last_modified_date', 'last_accessed_date'], excluded_llm_metadata_keys=['file_name', 'file_type', 'file_size', 'creation_date', 'last_modified_date', 'last_accessed_date'], relationships={}, text='Signs\\nand\\nsymptoms\\n●\\nHeart\\n&chest\\nburn\\n(retrosternal\\nburning)\\n●\\nSour\\nor\\nbitter\\nbelching.\\n●\\nNausea\\n●\\nThroat\\nburn\\n●\\nRegurgitation\\nof\\nfood\\nor\\nsour\\nsubstance\\n●\\nVomiting\\n●\\nGaseous\\ndistention\\nof\\nabdomen\\n●\\nHeaviness\\nin\\nabdomen\\n●\\nIndigestion.\\n●\\nAversion\\ntowards\\nfood.\\n●\\nPain\\nin\\nabdomen.\\n●\\nChest\\npain.\\n●\\nHeadache.\\n●\\nBad\\nbreath\\ne.\\n●\\nFoul\\nsmelling\\nloose\\nmotions.\\n●\\nSevere\\nburning\\nsensation\\nover\\nfeet,\\nhands\\n●\\nThirst\\n●\\nMouth\\nulcer\\n●\\nFatigue\\n(especially\\nin\\nlegs)\\n●\\nTiredness\\n●\\nFainting.\\n●\\nGiddiness.\\n●\\nItching\\nall\\nover\\nthe\\nbody\\nPrevention\\nAs\\nthe\\nsaying\\ngoes\\n“Prevention\\nis\\nbetter\\nthan\\ncure”\\nit\\nis\\nbetter\\nto\\navoid\\nall\\nthe\\ncausative\\nfactors\\nof\\nacid-peptic\\ndisorder\\n(amlapitta).\\n●\\nAvoid\\nexcessive\\nsalty ,\\noily,\\nsour\\nand\\nspicy\\nfoods\\n●\\nAvoid\\nheavy\\nand\\nuntimely\\nfood\\n●\\nAvoid\\nsmoking\\nand\\nalcohol\\nintake\\n●\\nFood\\nshould\\nconsist\\nmainly\\nof\\nbitters\\nlike\\nbitter\\ngourd,\\nmatured\\nash\\ngourd\\n●\\nInclude\\nbarley ,\\nwheat,\\nold\\nrice\\nand\\ngreen\\ngram\\nin\\ndiet.\\n●\\nAvoid\\novercooked,\\nstale\\nand\\ncontaminated\\nfood.\\n●\\nThe\\nfood\\nmust\\nbe\\nproperly\\ncooked\\n●\\nFollow\\nmental\\nrelaxation\\ntechniques', start_char_idx=None, end_char_idx=None, text_template='{metadata_str}\\n\\n{content}', metadata_template='{key}: {value}', metadata_seperator='\\n'),\n",
       " Document(id_='9d95d8c5-d688-4d77-b9f5-efcd87b2829e', embedding=None, metadata={'page_label': '6', 'file_name': 'Ayurvedic Dataset.pdf', 'file_path': 'C:\\\\Users\\\\hp\\\\Downloads\\\\ayur_llama\\\\Ayurvedic Dataset.pdf', 'file_type': 'application/pdf', 'file_size': 135118, 'creation_date': '2024-04-07', 'last_modified_date': '2024-04-04'}, excluded_embed_metadata_keys=['file_name', 'file_type', 'file_size', 'creation_date', 'last_modified_date', 'last_accessed_date'], excluded_llm_metadata_keys=['file_name', 'file_type', 'file_size', 'creation_date', 'last_modified_date', 'last_accessed_date'], relationships={}, text=\"Medical\\nmanagement\\nLine\\nof\\ntreatment\\n●\\nAvoid\\ncausative\\nfactors\\n●\\nPalliative\\ntreatment\\n-\\nAs\\nthe\\ndisease\\nis\\nof\\nPitta\\norigin,\\nall\\nmeasures\\nare\\nundertaken\\nto\\npacify\\npitta.\\n●\\nPanchakarma\\ntreatment\\nWhen\\npatient\\ncannot\\nbe\\nwell\\nmanaged\\nwith\\noral\\nmedications\\n‘Panchakarma\\nprocedures’\\nlike\\nVamana\\n(emesis)\\nor\\nvirechana\\n(purgation)\\nwhichever\\nis\\nneeded\\nshould\\nbe\\nadministered.\\nIn\\nchronic\\ncases\\nAsthapanavasti\\n(medicated\\nenema)\\nis\\nindicated.\\nSome\\nimportant\\nsingle\\ndrugs\\nuseful\\nin\\nAmlapitta\\n●\\nShatavari\\n-\\n3\\ngm\\ntwice\\na\\nday\\nwith\\nmilk\\n●\\nYashtimadhu\\n-\\n3\\ngm\\ntwice\\na\\nday\\nwith\\nmilk\\n●\\nAmalaki\\n(Indian\\ngooseberry)\\n-\\n3\\ngm\\ntwice\\na\\nday\\nwith\\nwater\\n●\\nSunthi\\n(dry\\nginger)\\n-\\n1-\\n3\\ngm\\ntwice\\na\\nday\\nwith\\nwater\\nDomestic\\nRemedies\\n●\\nThe\\nInfusion\\nof\\ncoriander\\nseeds\\n(Dhanyak)\\ntaken\\nwith\\nsugar\\ntwice\\na\\nday.\\n●\\nWater\\nobtained\\nfrom\\ngreen\\nfruit\\nof\\nCoconut\\n100-500\\nml\\nto\\nbe\\ntaken\\ntwice\\na\\nday.\\n●\\nPowder\\nof\\nAmla\\n3-6\\ngm\\nBD\\nwith\\nwater .\\n●\\nPowder\\nof\\nShatapuspa\\n(Saunf)\\n(Anethumsowa)\\nwith\\nsugar\\nmixed\\nin\\na\\nglass\\nof\\nwater\\n-\\n20\\nml\\ntwice\\ndaily\\nfor\\n1\\nweek\\nor\\ntill\\nthe\\nsymptom\\nsubsides\\n●\\nChewing\\nof\\nhalf\\na\\nteaspoon\\nof\\nfennel\\nseeds\\nafter\\nfood\\nDo's\\nand\\nDon'ts\\nDo's\\n(Pathya)\\n●\\nFollow\\nthe\\nmeal\\ntimes.\\n●\\nLight\\nfood,\\nCoconut\\nwater ,\\narticles\\nhaving\\ncooling\\nproperties\", start_char_idx=None, end_char_idx=None, text_template='{metadata_str}\\n\\n{content}', metadata_template='{key}: {value}', metadata_seperator='\\n'),\n",
       " Document(id_='f7b82980-9c7a-4251-86a9-18d277b7b6e8', embedding=None, metadata={'page_label': '7', 'file_name': 'Ayurvedic Dataset.pdf', 'file_path': 'C:\\\\Users\\\\hp\\\\Downloads\\\\ayur_llama\\\\Ayurvedic Dataset.pdf', 'file_type': 'application/pdf', 'file_size': 135118, 'creation_date': '2024-04-07', 'last_modified_date': '2024-04-04'}, excluded_embed_metadata_keys=['file_name', 'file_type', 'file_size', 'creation_date', 'last_modified_date', 'last_accessed_date'], excluded_llm_metadata_keys=['file_name', 'file_type', 'file_size', 'creation_date', 'last_modified_date', 'last_accessed_date'], relationships={}, text='●\\nVegetables\\nlike\\nwhite\\npumpkin,\\nbitter\\ngourd,\\nmatured\\nash\\ngourd,\\nleafy\\nvegetables\\nexcept\\nMethi\\n●\\nWheat,\\nold\\nrice,\\nbarley ,\\ngreen\\ngram,\\nsugar\\ncandy ,\\ncucumber ,\\n●\\nFruits\\nlike\\ngooseberry ,\\ndry\\ngrapes,\\nblack\\ngrapes,\\nsweet\\nlime,\\npomegranate,\\nfig,\\ndry\\nfig,\\n●\\nTake\\nadequate\\namount\\nof\\nfluids\\nlike\\npomogranate\\njuice,\\nlemon\\njuice,\\namla\\njuice,\\nsweetlime\\njuice,\\nMedicated\\nwater\\nwith\\nushir\\n(wala)\\nor\\ncoriander\\nseeds,\\nor\\nlaja\\n(puffed\\nrice).\\nWarm\\nwater .\\n●\\nDadimpak\\n(sweet\\npreparation\\nmade\\nof\\npomegranate).\\nMoramla\\n(jam\\nmade\\nfrom\\namla),\\ngulkand\\n(jam\\nmade\\nfrom\\nrose\\npetals)\\nwith\\nmilk\\n●\\nA\\ncup\\nof\\nlukewarm\\nmilk\\nafter\\nevery\\ntwo\\nor\\nthree\\nhours.\\n●\\nOne\\nteaspoonful\\nof\\nghee\\nwith\\nwarm\\nmilk\\n●\\nTake\\nadequate\\nsleep\\n&\\nrest\\n●\\nPractice\\nYoga,\\nPranayam,\\nmeditation\\n&\\nexercise\\nregularly\\nDon’ts\\n(Apathya)\\n●\\nAvoid\\nexcessive\\nspicy ,\\nsour\\nand\\nsalty\\nsubstances\\n●\\nAvoid\\nfried\\nand\\njunk\\nfood\\nitems\\n●\\nDo\\nnot\\nremain\\nhungry .\\nAvoid\\nfast.\\n●\\nDo\\nnot\\novereat,\\ntake\\nsmall\\nfrequent\\nmeals\\n●\\nAvoid\\nuntimely\\nand\\nirregular\\nfood\\nhabit\\n●\\nAvoid\\nfoods\\ncontaining\\nexcess\\namount\\nof\\ngarlic,\\nsalt,\\noil,\\nchillies,etc.\\nvery\\noften.\\n●\\nAvoid\\nrice\\ncurd\\nand\\nsour\\nfruits.\\n●\\nAvoid\\nlying\\ndown\\nimmediately\\nafter\\nfood\\nand\\nin\\nsupine\\nposition.\\nThe\\nbest\\nrecommended\\nposition\\nis\\nleft\\nlateral\\n●\\nAvoid,\\nsmoking,\\nalcohol,\\ntea,\\ncoffee\\nand\\naspirin\\ntype\\ndrugs.\\n●\\nAvoid\\nstress\\nAyurveda\\nfor\\nBronchial\\nAsthma:\\n1.\\nBronchial\\nAsthma\\n-\\nTamaka\\nSwasa\\n2.\\nCauses\\n3.\\nTreatment\\nmodalities\\nin\\nAyurveda\\n4.\\nSpecific\\nDo’s\\nand\\nDon’ts\\nBronchial\\nAsthma\\n-\\nTamaka\\nSwasa', start_char_idx=None, end_char_idx=None, text_template='{metadata_str}\\n\\n{content}', metadata_template='{key}: {value}', metadata_seperator='\\n'),\n",
       " Document(id_='b0c70e24-788b-4a91-a88a-013040df51ee', embedding=None, metadata={'page_label': '8', 'file_name': 'Ayurvedic Dataset.pdf', 'file_path': 'C:\\\\Users\\\\hp\\\\Downloads\\\\ayur_llama\\\\Ayurvedic Dataset.pdf', 'file_type': 'application/pdf', 'file_size': 135118, 'creation_date': '2024-04-07', 'last_modified_date': '2024-04-04'}, excluded_embed_metadata_keys=['file_name', 'file_type', 'file_size', 'creation_date', 'last_modified_date', 'last_accessed_date'], excluded_llm_metadata_keys=['file_name', 'file_type', 'file_size', 'creation_date', 'last_modified_date', 'last_accessed_date'], relationships={}, text='Difficulty\\nin\\nbreathing\\nor\\nshortness\\nof\\nbreath\\nmay\\nbe\\nsimply\\ntermed\\nas\\nSwasa\\n(Asthma).\\nIt\\nmay\\nbe\\nprimary\\n-\\noriginating\\nfrom\\nrespiratory\\nsystem,\\nsecondary\\n-\\noriginating\\nfrom\\nother\\nsystems\\nof\\nthe\\nbody\\nbut\\nthe\\nimpact\\nis\\non\\nrespiratory\\nsystem.\\nBronchial\\nAsthma\\nis\\na\\nchronic\\ninflammatory\\ndisease\\nof\\nairway .\\nIt\\nleads\\nto\\nrecurrent\\nepisodes\\nof\\nwheezing,\\nbreathlessness,\\ntightness\\nof\\nchest\\nand\\ncough\\nparticularly\\nat\\nnight\\nor\\nearly\\nmorning.\\nAs\\nper\\nAyurveda,\\nSwasa\\nis\\nmainly\\ncaused\\nby\\nthe\\nVata\\nand\\nKapha\\ndoshas.\\nSwasa\\nis\\nbroadly\\nclassified\\ninto\\nfive\\ntypes\\nin\\nMahaswasa\\n(Dyspnoea\\nmajor),\\nUrdhawaswasa\\n(\\nExpiratory\\nDyspnoea),\\nChinna\\nswasa\\n(Chyne-\\nstroke\\nrespiration),\\nKshudra\\nswasa\\n(\\nDyspnoea\\nminor),\\nTamaka\\nswasa\\n(Bronchial\\nAsthma).\\nCauses\\nAs\\nper\\nAyurveda\\nthe\\ncauses\\nof\\nTamaka\\nSwasa\\nare\\nas\\nfollows:\\n●\\nIntake\\nof\\ndry,\\ncold,\\nheavy ,\\nincompatible\\nfood\\nand\\nirregular\\nintake\\nof\\nfood\\n●\\nExcessive\\nIntake\\nof\\nblack\\ngram,\\nbeans,\\nsesame,\\nmeat\\nof\\naquatic\\nanimals.\\n●\\nIntake\\nof\\ncold\\nwater\\nand\\nexposure\\nto\\ncold\\nclimate\\n●\\nExposure\\nto\\ndust,\\nsmoke\\nand\\nwind\\n●\\nExcessive\\nexercise,\\nover\\nindulge\\nin\\nthe\\nsexual\\nactivity\\n●\\nTrauma\\nto\\nthroat,\\nchest\\nand\\nvital\\norgans.\\n●\\nSuppression\\nof\\nnatural\\nurges.\\nTreatment\\nmodalities\\nin\\nAyurveda\\nAs\\nper\\nthe\\nAyurveda\\nBronchial\\nAsthma\\nis\\nVatakaphaja\\ndisease,\\nit\\nbegins\\nin\\nthe\\nstomach,\\nprogresses\\nto\\nthe\\nlungs\\nand\\nbronchi.\\nHence\\nthe\\naim\\nof\\ntreatment\\nis\\nto\\nmove\\nthe\\nexcess\\nKapha\\nback\\nto\\nstomach\\nand\\nthen\\neliminate\\nit.\\nFor\\nthis\\npurpose\\nfollowing\\nmethods\\nare\\nadopted.\\n●\\nSwedana\\n(Sudation)\\n●\\nVamana\\n(Therapeutic\\nemesis)\\n●\\nVirechana\\n(Therapeutic\\npurgation)', start_char_idx=None, end_char_idx=None, text_template='{metadata_str}\\n\\n{content}', metadata_template='{key}: {value}', metadata_seperator='\\n'),\n",
       " Document(id_='dd982cd7-6870-4e94-8b99-4d73cec7cc29', embedding=None, metadata={'page_label': '9', 'file_name': 'Ayurvedic Dataset.pdf', 'file_path': 'C:\\\\Users\\\\hp\\\\Downloads\\\\ayur_llama\\\\Ayurvedic Dataset.pdf', 'file_type': 'application/pdf', 'file_size': 135118, 'creation_date': '2024-04-07', 'last_modified_date': '2024-04-04'}, excluded_embed_metadata_keys=['file_name', 'file_type', 'file_size', 'creation_date', 'last_modified_date', 'last_accessed_date'], excluded_llm_metadata_keys=['file_name', 'file_type', 'file_size', 'creation_date', 'last_modified_date', 'last_accessed_date'], relationships={}, text=\"These\\nprocedures\\nwill\\nbe\\nfollowed\\nas\\nper\\nthe\\nneed\\nof\\nindividual\\npatient.\\nPractice\\nof\\nPranayama,\\nlaxatives,\\nlight\\ndiet\\nin\\nthe\\nnight\\nand\\nuse\\nof\\nwarm\\nwater\\nwill\\nhelps\\nin\\nthe\\ntreatment\\nof\\nAsthma.\\nSpecific\\nDo’s\\nand\\nDon’ts\\nDo’s\\n(Pathya)\\n●\\nGodhuma\\n(wheat),\\nOld\\nrice,\\nMudga\\n(green\\ngram),\\nKulattha\\n(Horse\\ngram),\\nYava\\n(barley),\\nPatola\\n(snake\\ngourd)\\n●\\nUse\\nof\\nGarlic,\\nTurmeric,\\nGinger ,\\nBlack\\npepper\\n●\\nLuke\\nwarm\\nwater ,\\nGoat\\nmilk,\\nHoney\\n●\\nRespiratory\\nexercise,\\nPranayama,\\nYoga\\nDon’ts\\n(Apathya)\\n●\\nHeavy ,\\ncold\\ndiet,\\nMasha\\n(black\\ngram),\\nDeep\\nfried\\nitems,\\nMustard\\nleaves,\\nFish\\n●\\nExposure\\nto\\nCold\\n&\\nHumid\\natmosphere\\n●\\nSweets,\\nChilled\\nwater ,\\nStored\\nfood\\nitems,\\nCurd\\n●\\nSuppression\\nof\\nnatural\\nurges\\n●\\nExcessive\\nphysical\\nexertion\\n●\\nExposure\\nto\\nSmoke,\\nDust\\nand\\nfumes,\\nPollutants\\nand\\nPollens\\nAyurveda\\nfor\\nObesity:\\n1.\\nObesity\\n(Sthaulya)\\n2.\\nCauses\\n3.\\nSymptoms\\n4.\\nLine\\nof\\ntreatment\\n5.\\nPreventive\\nmeasures\\n6.\\nDo's\\nand\\nDon'ts\\nObesity\\n(Sthaulya)\\nObesity\\nis\\naccumulation\\nof\\nexcess\\nfat\\nin\\nthe\\nbody\\nwhich\\nmay\\nlead\\nto\\nnegative\\neffects\\non\\nhealth,\\nreduced\\nlife\\nexpectancy\\nand/or\\nincreased\\nhealth\\nproblems.\", start_char_idx=None, end_char_idx=None, text_template='{metadata_str}\\n\\n{content}', metadata_template='{key}: {value}', metadata_seperator='\\n'),\n",
       " Document(id_='3a3428fd-81a5-4f34-bc28-4193ae42b01d', embedding=None, metadata={'page_label': '10', 'file_name': 'Ayurvedic Dataset.pdf', 'file_path': 'C:\\\\Users\\\\hp\\\\Downloads\\\\ayur_llama\\\\Ayurvedic Dataset.pdf', 'file_type': 'application/pdf', 'file_size': 135118, 'creation_date': '2024-04-07', 'last_modified_date': '2024-04-04'}, excluded_embed_metadata_keys=['file_name', 'file_type', 'file_size', 'creation_date', 'last_modified_date', 'last_accessed_date'], excluded_llm_metadata_keys=['file_name', 'file_type', 'file_size', 'creation_date', 'last_modified_date', 'last_accessed_date'], relationships={}, text='A\\nmajor\\nproportion\\nof\\nDiabetes,\\nIschemic\\nHeart\\nDisease,\\nHypertension,\\nIschemic\\nStroke,\\nOsteoarthritis,\\nand\\nCancer\\nburden\\nmay\\nbe\\nattributed\\nto\\nOverweight\\nand\\nObesity .\\nIn\\nAyurveda,\\nAtisthaulya\\n(Obesity)\\nis\\ndescribed\\nas\\nexcessive\\naccumulation\\nof\\nMeda\\n(fat/adipose\\ntissue)\\nand\\nMamsa\\n(flesh/muscle\\ntissue)\\nleading\\nto\\nflabbiness\\nof\\nhips,\\nabdomen,\\nand\\nbreast.\\nIt\\nis\\nconsidered\\nas\\none\\nof\\nSantarpanottha\\nVikaras\\n(disease\\ndue\\nto\\nconsumption\\nof\\nexcessive\\ncalories)\\nin\\nAyurveda.\\nMedodushti\\n(disorders\\nof\\nfat\\nmetabolism)\\nmay\\nbe\\none\\nof\\nthe\\nrisk\\nfactors\\nfor\\nIschemic\\nHeart\\nDisease\\n(IHD).\\nCauses\\n●\\nIncreased\\nintake\\nof\\nenergy-dense\\nfoods\\nthat\\nare\\nhigh\\nin\\nfat,\\ncarbohydrates\\n●\\nOvereating\\nand\\nIrregular\\nfood\\nhabits\\n●\\nLack\\nof\\nPhysical\\nactivities\\ndue\\nto\\nsedentary\\nlife\\nstyle\\n●\\nGenetics,\\nendocrine\\ndisorders,\\nMedical\\nReasons\\nor\\nPsychiatric\\nillness\\n●\\nDay\\n-\\ntime\\nsleeping\\nSymptoms\\n●\\nBreathlessness\\neven\\non\\nlittle\\nexertion\\n/\\nphysical\\nactivity .\\n●\\nLack\\nof\\ninterest\\nin\\ndoing\\nwork.\\n●\\nProfuse\\nsweating\\nwith\\nfoul\\nbody\\nodor .\\n●\\nExcessive\\nhunger .\\n●\\nFeeling\\nof\\ntiredness.\\n●\\nExcessive\\nsleep\\nLine\\nof\\ntreatment\\n(Under\\nstrict\\nsupervision\\nof\\nRegistered\\nAyurvedic\\nPhysician)\\nShamana\\n(Palliative)\\ntreatment:\\n●\\nLanghan\\n(Fasting),\\n●\\nAma\\npachan\\n(oral\\nuse\\nof\\ndigestives\\nto\\naugment\\nthe\\nfat\\nmetabolism),', start_char_idx=None, end_char_idx=None, text_template='{metadata_str}\\n\\n{content}', metadata_template='{key}: {value}', metadata_seperator='\\n'),\n",
       " Document(id_='3ad7d6d7-38e0-498a-85fb-e25d41a70823', embedding=None, metadata={'page_label': '11', 'file_name': 'Ayurvedic Dataset.pdf', 'file_path': 'C:\\\\Users\\\\hp\\\\Downloads\\\\ayur_llama\\\\Ayurvedic Dataset.pdf', 'file_type': 'application/pdf', 'file_size': 135118, 'creation_date': '2024-04-07', 'last_modified_date': '2024-04-04'}, excluded_embed_metadata_keys=['file_name', 'file_type', 'file_size', 'creation_date', 'last_modified_date', 'last_accessed_date'], excluded_llm_metadata_keys=['file_name', 'file_type', 'file_size', 'creation_date', 'last_modified_date', 'last_accessed_date'], relationships={}, text=\"●\\nRuksha\\nUdwartan\\n(Dry\\nmedicated\\npowder\\nmassage),\\n●\\nHeavy\\nand\\nnon-nourishing\\ndiet/items\\nlike\\nHoney ,\\nsalad\\netc\\nare\\nadvised.\\n●\\nPhysical\\nexercises,\\nmental\\nwork\\nis\\nalso\\nrecommended.\\nSamshodhana\\nChikitsa\\n(Purificatory\\nprocedures):\\n●\\nPanchakarma\\n●\\nVaman\\n(Therapeutic\\nemesis),\\n●\\nVirechan\\n(Therapeutic\\npurgation),\\n●\\nLekhan\\nvasti\\n(Medicated\\nenema)\\nare\\nadvised\\nfor\\nthe\\nmanagement\\nof\\nSthaulya.\\n●\\nSingle\\ndrugs:\\nGuduchi,\\nVidanga,\\nMusta,\\nSunthi,\\nAmla,\\nVaca,\\nDaruharidra,\\nGuggulu,\\netc.\\n●\\nCompound\\nFormulations\\n:\\nTrikatu,\\nNavak\\nGuggulu,\\nTriphala\\nGuggulu,\\nVidangadi\\nChurna,\\nTakrarishta,\\nNavayasa\\nlauha,\\nArogya\\nVardhini\\nVati\\netc.\\nPreventive\\nmeasures\\nUnhealthy\\ndiet\\nresults\\nin\\nbuilding\\nup\\nof\\nadipose\\ntissue\\nin\\nthe\\nbody\\nresulting\\nin\\nweight\\ngain\\nand\\nobesity .\\nPhysical\\nactivity\\nlessens\\nthe\\nenergy\\nimbalance\\nbetween\\ncalories\\nconsumed\\non\\none\\nhand,\\ncalories\\nexpended\\non\\nthe\\nother\\nhand\\nresulting\\nin\\nweight\\ngain\\nand\\nobesity .\\nHence,\\nintake\\nof\\nhealthy\\ndiet\\ncomprising\\nof\\nsufficient\\nfibre,\\nadopting\\nactive\\nlife\\nstyle\\nand\\npracticing\\nYoga\\nand\\nMeditation\\nto\\nmanage\\nstress\\nand\\nfatigue\\nare\\nhighly\\nrecommended\\nfor\\nthe\\nprevention\\nof\\nOverweight\\n/\\nObesity .\\nLife\\nStyle\\nmodifications\\nsuch\\nas\\n●\\nMild\\nto\\nModerate\\nexercise\\naccording\\nto\\nindividual\\ncapacity .\\n●\\nRegular\\nhabit\\nof\\nBrisk\\nmorning\\nwalk\\nfor\\n30\\nminutes.\\n●\\nAvoid\\nsedentary\\nhabits.\\n●\\nAvoid\\nexcessive\\nsleep.\\n●\\nAvoid\\nwatching\\nTV\\nwhile\\nhaving\\nfood.\\n●\\nAvoid\\nAlcohol\\nand\\nSmoking\\nDo's\\nand\\nDon'ts\\nDo's\", start_char_idx=None, end_char_idx=None, text_template='{metadata_str}\\n\\n{content}', metadata_template='{key}: {value}', metadata_seperator='\\n'),\n",
       " Document(id_='b0ef0ecf-cbc8-4e17-b096-a590333b5701', embedding=None, metadata={'page_label': '12', 'file_name': 'Ayurvedic Dataset.pdf', 'file_path': 'C:\\\\Users\\\\hp\\\\Downloads\\\\ayur_llama\\\\Ayurvedic Dataset.pdf', 'file_type': 'application/pdf', 'file_size': 135118, 'creation_date': '2024-04-07', 'last_modified_date': '2024-04-04'}, excluded_embed_metadata_keys=['file_name', 'file_type', 'file_size', 'creation_date', 'last_modified_date', 'last_accessed_date'], excluded_llm_metadata_keys=['file_name', 'file_type', 'file_size', 'creation_date', 'last_modified_date', 'last_accessed_date'], relationships={}, text='●\\nTake\\nlow-fat\\nand\\nlow-calorie\\nfood\\nitems.\\n●\\nTake\\nmore\\nproteins\\nto\\nstay\\nlonger\\nwithout\\nfood.\\n●\\nSteamed/\\nboiled\\nand\\nbaked\\nvegetables\\nrather\\nthan\\nfried.\\n●\\nTake\\nfrequent\\nsmall\\nmeals\\nto\\navoid\\nfood\\ncravings.\\n●\\nDrink\\nskimmed\\nmilk\\ninstead\\nof\\nwhole\\nmilk.\\n●\\nTake\\nHealthy\\nfoods\\nsuch\\nas\\n–\\noatmeal,\\nwalnuts,\\nsalads,\\nbitter\\ngourd\\n(Karela),\\ndrumstick\\n(Shigru),\\nbarley\\n(Yava\\n),\\nwheat,\\nGreen\\ngram\\n(Moong\\ndal),\\nhoney\\n(Madhu),\\nIndian\\nGooseberry\\n(Amla),\\npomegranate\\n(Anar)\\nand\\nsnake\\ngourd\\netc\\nand\\nskimmed\\nButtermilk.\\n●\\nInclude\\ncabbage\\nin\\ndaily\\nmeal.\\nIt\\nwill\\nstop\\nthe\\nconversion\\nof\\nsugars\\nto\\nfat.\\n●\\nUse\\nwarm\\nwater\\nfor\\ndrinking.\\n●\\nInclude\\nlemon\\nin\\ndiet\\nand\\ndrinks.\\nDont’ s\\n●\\nHigh\\ncarbohydrate\\nvegetables\\nlike\\n-\\npotato,\\nrice\\netc.\\n●\\nMore\\nsugary\\nor\\nsweet\\nproducts,\\nmore\\ndairy\\nproducts,\\nfried\\nand\\noily\\nfoods,\\nfast\\nfoods,\\nexcess\\nsalt.\\n●\\nSalty\\nfoods\\nor\\nexcessive\\nsalt\\nin\\nmeals.\\nAyurvedic\\ntips\\nto\\ntreat\\ndry\\ncough:\\n1.\\nSymptoms\\n2.\\nCauses\\n3.\\nHow\\nAyurvedic\\nTreats\\nDry\\nCough?\\n4.\\nAyurvedic\\nhome\\nremedies\\nfor\\ndry\\ncough\\n5.\\nAyurvedic\\ntreatment\\napproach\\nfor\\ndry\\ncough\\nDry\\ncough\\n(Shushka-Kasa)\\nis\\na\\nvery\\ncommon\\nailment\\nnowadays,\\nespecially\\nin\\ncities.\\nThe\\nallergens\\nor\\npollutants\\nin\\nthe\\nenvironment\\nenter\\nyour\\nthroat\\npipe,\\nlungs\\nor\\nairways\\nand\\ntrigger\\nyour\\nbody\\nto\\ncough\\nthem\\nout!\\nThis\\ncontinued\\naction\\n(natural\\nreflex)\\ncauses\\ninflammation\\nof\\nthe\\nrespiratory\\ntract\\nand\\nthroat.\\nDry\\ncough\\ncan\\nlast\\nfor\\na\\nvery\\nlong\\ntime,\\neven\\nbecome\\nchronic.', start_char_idx=None, end_char_idx=None, text_template='{metadata_str}\\n\\n{content}', metadata_template='{key}: {value}', metadata_seperator='\\n'),\n",
       " Document(id_='3c515067-8f61-4e73-aac3-2a28a66d843f', embedding=None, metadata={'page_label': '13', 'file_name': 'Ayurvedic Dataset.pdf', 'file_path': 'C:\\\\Users\\\\hp\\\\Downloads\\\\ayur_llama\\\\Ayurvedic Dataset.pdf', 'file_type': 'application/pdf', 'file_size': 135118, 'creation_date': '2024-04-07', 'last_modified_date': '2024-04-04'}, excluded_embed_metadata_keys=['file_name', 'file_type', 'file_size', 'creation_date', 'last_modified_date', 'last_accessed_date'], excluded_llm_metadata_keys=['file_name', 'file_type', 'file_size', 'creation_date', 'last_modified_date', 'last_accessed_date'], relationships={}, text=\"Symptoms\\nA\\nperson\\nsuffering\\nfrom\\nthis\\ndisease\\ndisplays\\nthe\\nfollowing\\nsymptoms:\\n●\\nFrequent\\ndry\\ncough\\n●\\nPhlegm/sputum\\nproduction\\n●\\nBurning\\nsensation\\nor\\nsuffocation\\nin\\nthe\\nchest\\n●\\nFever\\n●\\nPain\\nin\\nthe\\nregion\\nof\\nheart,\\ntemples,\\nhead,\\nabdomen,\\nsides\\n●\\nIrritability\\n●\\nDryness\\nin\\nthe\\nmouth,\\nexcessive\\nthirst,\\nbitter\\ntaste\\n●\\nSore\\nthroat,\\nhoarseness\\nof\\nvoice\\n●\\nDifficulty\\nin\\nswallowing\\nfood\\n●\\nTiredness,\\nweakness\\n●\\nNausea\\nafter\\neating\\nfood.\\nCauses\\nThe\\nmain\\ncauses\\nof\\ndry\\ncough\\nare\\nrespiratory\\ntract\\ninfections,\\nSinusitis,\\nPneumonia,\\nsuppression\\nof\\nvomiting\\nand\\ninflammation\\ndue\\nto\\nirritants/allergens.\\nThe\\nlast\\nreason\\nis\\nthe\\nmost\\ncommon\\none!\\nWhen\\ndry\\ncoughs\\nare\\nprovoked\\nby\\nprolonged\\nexposure\\nto\\nhigh\\npollution-levels,\\ndust,\\nallergy\\nand\\ntoxic\\nsmoke\\n(like\\ncigarettes)\\nit\\nis\\nknown\\nas\\n'Vataja\\nKasa’\\nin\\nAyurveda.\\nTo\\nshield\\nfrom\\nthis\\ndisease,\\nyour\\nrespiratory\\nsystem\\nmust\\nhave\\na\\nstrong\\nimmunity\\nbut\\nwith\\npoor\\nnutrition,\\nirregular\\nlifestyle\\nand\\ngrowing\\nenvironmental\\ntoxicity ,\\nit\\nis\\nhard\\nfor\\nyour\\nbody\\nto\\nfight\\nback.\\nHow\\nAyurvedic\\nTreats\\nDry\\nCough?\\nPrana\\nVayu\\nand\\nUdana\\nVayu\\n(types\\nof\\nVata)\\ngovern\\nthe\\nrespiratory\\nsystem.\\nWhen\\nallergens,\\nviruses,\\nand\\nbacteria\\nvitiate\\nthem,\\nirritation\\noccurs.\\nAs\\na\\ncountermeasure,\\nthe\\nbody\\nforcibly\\nexpels\\nair\\nto\\nremove\\nthe\\nobstruction.\\nDuring\\nthis\\nprocess,\\nthe\\nVata\\n(biological\\nair)\\nbalance\\nin\\nthe\\nbody\\ngets\\nimpaired\\nand\\ncauses\\n“Vataja\\nKasa”.\", start_char_idx=None, end_char_idx=None, text_template='{metadata_str}\\n\\n{content}', metadata_template='{key}: {value}', metadata_seperator='\\n'),\n",
       " Document(id_='468d0674-fa18-44ea-a719-3da14cf86597', embedding=None, metadata={'page_label': '14', 'file_name': 'Ayurvedic Dataset.pdf', 'file_path': 'C:\\\\Users\\\\hp\\\\Downloads\\\\ayur_llama\\\\Ayurvedic Dataset.pdf', 'file_type': 'application/pdf', 'file_size': 135118, 'creation_date': '2024-04-07', 'last_modified_date': '2024-04-04'}, excluded_embed_metadata_keys=['file_name', 'file_type', 'file_size', 'creation_date', 'last_modified_date', 'last_accessed_date'], excluded_llm_metadata_keys=['file_name', 'file_type', 'file_size', 'creation_date', 'last_modified_date', 'last_accessed_date'], relationships={}, text='Ayurvedic\\nhome\\nremedies\\nfor\\ndry\\ncough\\nIf\\nyou\\nare\\nsuffering\\nfrom\\nDry\\ncough,\\ntry\\nout\\nthese\\neffective\\nAyurvedic\\nhome\\nremedies:\\n●\\nBefore\\nbedtime,\\ntake\\nwarm\\nmilk\\nwith\\nturmeric\\nand\\nhoney .\\nThis\\nworks\\nas\\na\\nnatural\\nantibiotic.\\n●\\nConsume\\nturmeric\\npowder\\nmixed\\nwith\\nhoney\\nthree\\ntimes\\na\\nday.\\n●\\nLicorice\\n(Mulethi)\\nlozenges\\nto\\nreduce\\ninflammation.\\n●\\nUse\\nthe\\ndecoction\\nof\\nSauf\\n(Ani\\nseeds)\\nas\\nthe\\nbase\\nwater\\nto\\nmake\\ncoffee\\nor\\ntea.\\n●\\nSooth\\nyour\\ninfected\\nthroat\\npipe\\nwith\\nnatural\\ncough\\nsyrup\\nmade\\nby\\nmixing\\nginger\\nand\\nhoney .\\nBoil\\na\\npiece\\nof\\nginger\\n(peeled)\\nin\\nwater .\\nFilter\\nand\\nmix\\n1\\ntsp\\nof\\nhoney\\nand\\nconsume.\\nYou\\ncan\\neven\\nchew\\nsmall\\npieces\\nof\\nginger\\nsprinkled\\nwith\\nwater\\nfor\\nits\\nanti-inflammatory\\nproperties\\n●\\nAdd\\na\\npinch\\nof\\ncinnamon\\npowder\\nin\\nwarm\\nwater\\nor\\ntea\\nfor\\nrelief\\nfrom\\nthroat\\nirritability\\n●\\nDrink\\ntea\\nmade\\nof\\nTulsi\\n(Basil\\nleaves),\\nginger\\nand\\nhoney\\n●\\nYou\\ncan\\nchew\\nTulsi\\nleaves\\nthroughout\\nthe\\nday\\nfor\\nfaster\\nrecovery\\nDon’t\\nforget\\nto\\nmake\\nsome\\nimportant\\nlifestyle\\nchanges\\nlike:\\n●\\nAvoid\\ninteraction\\nwith\\nallergens\\n(pollution,\\ndust,\\npollen\\netc.)\\n●\\nAbstain\\nfrom\\njunk,\\ndry\\nor\\nspicy\\nfood\\n●\\nA\\nnourishing\\ndiet\\nshould\\nbe\\ntaken\\nin\\nsmall\\nquantities\\n(preferably\\nas\\nsoups)\\nuntil\\nthe\\ndigestive\\nAgni\\nbecomes\\nstrong\\n●\\nHave\\nplenty\\nof\\nrest\\n●\\nConsume\\nclean,\\nroom\\ntemperature/warm\\nwater\\n●\\nDo\\nPranayama\\nfor\\nbuilding\\nlung’ s\\nhealth\\n●\\nAvoid\\nirritants\\nlike\\nsmoke\\nfrom\\nmosquito\\ncoils,\\nincense\\netc\\n●\\nFollow\\nstrict\\nfood\\nand\\nsleep\\nschedule.\\nHave\\ndinner\\nbefore\\nsunset\\n●\\nInstall\\nhumidifier\\nin\\nthe\\nbedroom\\n●\\nConsume\\nfood\\nrich\\nin\\nVitamin\\nC\\nto\\nstrengthen\\nthe\\nimmune\\nsystem\\nAyurvedic\\ntreatment\\napproach\\nfor\\ndry\\ncough\\nApart\\nfrom\\nthese\\nhome\\nremedies,\\nthe\\nVaids\\nprescribe\\nmedicinal\\npreparations\\ndepending\\non\\npatients’\\ndosha\\ncomposition\\n(Vata-Pitta-Kapha\\nbalance)\\nand\\ndisease\\nsymptoms.\\nToday ,\\nAyurveda\\nhas\\nadvanced\\nmedicines\\nfor\\ncuring\\nrelated\\nailments\\nlike\\nirritable\\ndry\\ncough,\\nchronic\\nfever ,\\nthroat\\ninfection\\nand\\nrespiratory\\ndiseases.\\nFor\\nexample:\\nDraksharishta,\\nVaikrantabaddaras,\\nPravalachandrodaya,', start_char_idx=None, end_char_idx=None, text_template='{metadata_str}\\n\\n{content}', metadata_template='{key}: {value}', metadata_seperator='\\n'),\n",
       " Document(id_='0cfec042-b4a4-455f-9847-f213121ef13a', embedding=None, metadata={'page_label': '15', 'file_name': 'Ayurvedic Dataset.pdf', 'file_path': 'C:\\\\Users\\\\hp\\\\Downloads\\\\ayur_llama\\\\Ayurvedic Dataset.pdf', 'file_type': 'application/pdf', 'file_size': 135118, 'creation_date': '2024-04-07', 'last_modified_date': '2024-04-04'}, excluded_embed_metadata_keys=['file_name', 'file_type', 'file_size', 'creation_date', 'last_modified_date', 'last_accessed_date'], excluded_llm_metadata_keys=['file_name', 'file_type', 'file_size', 'creation_date', 'last_modified_date', 'last_accessed_date'], relationships={}, text=\"Ekotharavrudhimahalakshmivilasarasa,\\nTalisadi\\nChurna,\\nSithopaladhi\\nChurna\\nand\\nLakshmivilasarasa.\\nTo\\ntreat\\n‘Vataja\\nKasa’\\n(most\\ncommon\\ndry\\ncough)\\nthe\\nfollowing\\ntreatment\\nplan\\nis\\nfollowed:\\n●\\nApplication\\nof\\noils\\nand/or\\nheat\\nto\\nthe\\nprana\\nvaha\\nsrota\\n(respiratory\\nsystem).\\nEg.\\nSesame\\noil\\nmassaged\\ninto\\nthe\\nchest\\nfollowed\\nby\\nfomentation.\\n●\\nGhrita\\n(medicated\\nghee)\\nadministration.\\nGhee\\nis\\nprepared\\nusing\\nwarm\\nor\\nmoist\\nexpectorant\\nherbs:\\nKantakari,\\nvasaka,\\nlicorice\\nand\\nwild\\ncherry\\nbark.\\n●\\nFor\\nthe\\ndigestive\\nsystem\\nanuvasana\\nbasti\\n(oil\\nenema)\\nor\\nniruha\\nbasti\\n(decoction\\nenema)\\nis\\ndone.\\n●\\nPrescription\\nof\\nSitopaladi\\nChurna.\\nIt\\nis\\na\\ncombination\\nof\\nmany\\nherbs\\nand\\nspices\\nwith\\nchief\\nherb\\nbeing\\nVamsa\\nrochana\\n.\\nFlush\\nthe\\ntoxins\\nand\\nreboot\\nyourself:\\n1.\\nThe\\nDetoxification\\nprocess\\nin\\nAyurveda\\n2.\\nPanchakarmas\\nof\\nAyurveda\\nAyurveda\\nis\\none\\nof\\nthe\\nworld's\\noldest\\nholistic\\nhealing\\nsystems,\\noriginated\\nabout\\n3000\\nyears\\nago\\nin\\nIndia.\\nAyurveda\\nis\\nnot\\nsimply\\na\\nhealing\\nsystem,\\nbut\\nit\\nis\\na\\nway\\nof\\nlife.\\nThe\\nessence\\nof\\nAyurveda\\nis\\nto\\nkeep\\nthe\\ndelicate\\nbalance\\nbetween\\nthe\\nbody ,\\nmind\\nand\\nsoul.\\nIts\\npurpose\\nis\\nto\\nfind\\nthe\\ntrue\\nbalance\\nof\\nlife\\nby\\nbringing\\nadequate\\nchange\\nin\\nour\\ndiet\\nand\\nlifestyle.\\nThe\\nDetoxification\\nprocess\\nin\\nAyurveda\\nThe\\nprimary\\naim\\nof\\nAyurveda\\nis\\nto\\nmaintain\\nthe\\nhealth\\nof\\nhealthy\\npeople\\nand\\nto\\ncure\\nthe\\ndiseases\\nof\\nsick\\npeople.\\nPrincipally\\nit\\ncomprises\\nof\\n2\\nparts\\n–\\ncleansing\\ntherapy\\nand\\npacifying\\ntherapy .\\nWhen\\nthe\\ntoxins\\nof\\nthe\\nbody\\ncausing\\ndiseases\\nare\\nin\\nlesser\\nquantity ,\\npacifying\\nmedicines\\nare\\ngiven\\nboth\\ninternally\\nand\\nexternally .\\nCleansing\\ntherapy\\nwhich\\ninclude\\nthe\\nPanchakarmas\\nof\\nAyurveda\\nare\\nused\\nwhen\\nthe\\ntoxins\\nare\\nin\\ngreater\\nquantity ,\\nthus\\ndraining\\nthem\\nout\\nfrom\\nthe\\nbody\\nthrough\\nthe\\nnatural\\norifices.\", start_char_idx=None, end_char_idx=None, text_template='{metadata_str}\\n\\n{content}', metadata_template='{key}: {value}', metadata_seperator='\\n'),\n",
       " Document(id_='d45531c1-31d1-4357-a0cf-958c8b80489a', embedding=None, metadata={'page_label': '16', 'file_name': 'Ayurvedic Dataset.pdf', 'file_path': 'C:\\\\Users\\\\hp\\\\Downloads\\\\ayur_llama\\\\Ayurvedic Dataset.pdf', 'file_type': 'application/pdf', 'file_size': 135118, 'creation_date': '2024-04-07', 'last_modified_date': '2024-04-04'}, excluded_embed_metadata_keys=['file_name', 'file_type', 'file_size', 'creation_date', 'last_modified_date', 'last_accessed_date'], excluded_llm_metadata_keys=['file_name', 'file_type', 'file_size', 'creation_date', 'last_modified_date', 'last_accessed_date'], relationships={}, text=\"Panchakarmas\\nof\\nAyurveda\\nPanchakarma\\nincludes\\nspecially\\ndesigned\\nfive\\nprocedures\\nof\\ninternal\\npurification\\nand\\ndetoxification\\nof\\nthe\\nbody\\nthrough\\nthe\\nnearest\\npossible\\nroute.\\nSuch\\npurification\\nallows\\nthe\\nbiological\\nsystem\\nto\\nreturn\\nto\\nhomeostasis\\nand\\nto\\nrejuvenate\\nrapidly\\nand\\nalso\\nfacilitates\\nthe\\ndesired\\npharmaco-therapeutic\\neffects\\nof\\nmedicines\\nadministered\\nthereafter .\\nAs\\na\\ntreatment\\nprocedure,\\nPanchakarma\\nhas\\ndifferent\\nroles\\n-\\napplication\\nin\\nthe\\ntreatment\\nof\\ndisease,\\nas\\npreparatory\\nmeasures\\nbefore\\nsurgery\\nin\\nAyurveda,\\nbefore\\nadministration\\nof\\nRasayana\\nand\\nVajikarana\\ntherapy\\netc.\\nBut\\ntoday ,\\nPanchakarma\\nexpounded\\nin\\nAyurveda\\nis\\nperhaps\\nthe\\nmost\\nmisunderstood\\nof\\nall\\nAyurveda\\npractices.\\nDue\\nto\\nignorance,\\nit\\nis\\noften\\nperceived\\nas\\njust\\nanother\\nsystem\\nof\\noil\\nmassage.\\nPanchakarma\\nis\\nnot\\nonly\\ngood\\nfor\\nalleviating\\nthe\\ndisease\\nbut\\nis\\nalso\\na\\nuseful\\nmodality\\nof\\ntreatment\\nin\\npreserving\\nand\\npromoting\\nthe\\nperfect\\nhealth.\\nPanchakarma\\nwith\\nwider\\nrange\\nof\\ntherapeutical\\neffects\\nwill\\npave\\nway\\nto\\nnourishment\\nof\\ntissues,\\nrejuvenation,\\nincreasing\\nvirility\\netc.\\nIn\\ntoday's\\nbusy\\nworld\\nmore\\nand\\nmore\\npeople\\nare\\nbecoming\\nvictims\\nof\\nthe\\nadverse\\neffects\\nof\\nstress\\nand\\nanxiety ,\\nwhich\\nis\\nleading\\nto\\ndiseases\\nlike\\ngastro-intestinal\\ndisorders,\\nlack\\nof\\nsleep,\\nallergies,\\nheart\\ndiseases,\\ndiabetes,\\ncancer ,\\nosteoporosis,\\nchronic\\nfatigue\\netc.\\nThese\\ndiseases\\ncaused\\nmainly\\ndue\\nto\\ndeep\\nseated\\nmetabolic\\ntoxins.\\nPanchakarma\\neliminates\\nthese\\nmetabolic\\ntoxins\\nfrom\\nthe\\nbody\\nallowing\\npermanent\\nhealing\\nof\\ntissues\\nand\\nchannels.\\nPanchakarma\\nwell\\nknown\\nas\\ndetoxification\\nand\\nrejuvenation\\ntherapy ,\\nhelps\\nto\\neliminate\\nthe\\ndisease\\ncausing\\ntoxins\\nand\\nrevitalizes\\nthe\\ntissues.\\nPanchakarma\\nhas\\na\\nfull\\ntherapy\\nrole\\nas\\npreventive\\nand\\ncurative\\nprocedure.\\nPanchakarma\\nis\\nto\\nbe\\nperformed\\nby\\nprofessionally\\nqualified\\nand\\nexperienced\\ntherapists\\nunder\\nthe\\nguidance\\nof\\nproficient\\nand\\nspecialist\\ndoctors.\\nAppropriate\\nclinical\\nexamination\\nof\\nthe\\npatients\\nis\\nto\\nbe\\nvarried\\nout\\nand\\nthe\\ntreatment\\nprotocol\\nis\\nto\\nbe\\nplanned\\nby\\nthe\\ndoctors\\nafter\\nconsidering\\nthe\\nphysical\\nand\\nmental\\nhealth\\nof\\neach\\nindividual.\", start_char_idx=None, end_char_idx=None, text_template='{metadata_str}\\n\\n{content}', metadata_template='{key}: {value}', metadata_seperator='\\n')]"
      ]
     },
     "execution_count": 12,
     "metadata": {},
     "output_type": "execute_result"
    }
   ],
   "source": [
    "llama_doc"
   ]
  },
  {
   "cell_type": "code",
   "execution_count": 13,
   "id": "55c3d00d",
   "metadata": {},
   "outputs": [
    {
     "name": "stdout",
     "output_type": "stream",
     "text": [
      "LLM is explicitly disabled. Using MockLLM.\n"
     ]
    }
   ],
   "source": [
    "#Settings.embed_model = HuggingFaceEmbedding(model_name=\"mistralai/Mistral-7B-Instruct-v0.1\")\n",
    "\n",
    "Settings.embed_model = HuggingFaceEmbedding(model_name=\"BAAI/bge-small-en-v1.5\")\n",
    "# Settings.embed_model = HuggingFaceEmbedding(model_name=\"thenlper/gte-large\") # alternative model\n",
    "\n",
    "Settings.llm = None\n",
    "Settings.chunk_size = 256\n",
    "Settings.chunk_overlap = 25"
   ]
  },
  {
   "cell_type": "code",
   "execution_count": null,
   "id": "24ed5935",
   "metadata": {},
   "outputs": [],
   "source": []
  },
  {
   "cell_type": "code",
   "execution_count": null,
   "id": "4ac5541f",
   "metadata": {},
   "outputs": [],
   "source": []
  },
  {
   "cell_type": "code",
   "execution_count": 14,
   "id": "bf1c986e",
   "metadata": {},
   "outputs": [],
   "source": [
    "from llama_index.core import VectorStoreIndex, SimpleDirectoryReader\n",
    "\n",
    "index = VectorStoreIndex.from_documents(llama_doc)"
   ]
  },
  {
   "cell_type": "code",
   "execution_count": 15,
   "id": "bdf30a4e",
   "metadata": {},
   "outputs": [
    {
     "data": {
      "text/plain": [
       "<llama_index.core.indices.vector_store.base.VectorStoreIndex at 0x26dafb00450>"
      ]
     },
     "execution_count": 15,
     "metadata": {},
     "output_type": "execute_result"
    }
   ],
   "source": [
    "index"
   ]
  },
  {
   "cell_type": "code",
   "execution_count": 16,
   "id": "6332690f",
   "metadata": {},
   "outputs": [],
   "source": [
    "top_k = 1\n",
    "\n",
    "retriever = VectorIndexRetriever(\n",
    "    index=index,\n",
    "    similarity_top_k=top_k,\n",
    ")"
   ]
  },
  {
   "cell_type": "code",
   "execution_count": 17,
   "id": "56398b69",
   "metadata": {},
   "outputs": [],
   "source": [
    "query_engine = RetrieverQueryEngine(\n",
    "    retriever=retriever,\n",
    "    node_postprocessors=[SimilarityPostprocessor(similarity_cutoff=0.5)],\n",
    ")"
   ]
  },
  {
   "cell_type": "code",
   "execution_count": 18,
   "id": "7e82bc00",
   "metadata": {},
   "outputs": [],
   "source": [
    "query = \"How to cure cold?\"\n",
    "response = query_engine.query(query)"
   ]
  },
  {
   "cell_type": "code",
   "execution_count": 19,
   "id": "a08847ea",
   "metadata": {},
   "outputs": [
    {
     "name": "stdout",
     "output_type": "stream",
     "text": [
      "Context:\n",
      "●\n",
      "Keep\n",
      "away\n",
      "from\n",
      "others\n",
      "who\n",
      "are\n",
      "infected\n",
      "with\n",
      "cold.\n",
      "●\n",
      "Eat\n",
      "a\n",
      "well\n",
      "balanced\n",
      "diet\n",
      "and\n",
      "get\n",
      "enough\n",
      "rest.\n",
      "Take\n",
      "plenty\n",
      "of\n",
      "hot\n",
      "beverages.\n",
      "Care\n",
      "of\n",
      "New\n",
      "Born\n",
      "during\n",
      "coughs\n",
      "&\n",
      "colds\n",
      "to\n",
      "avoid\n",
      "Acute\n",
      "Respiratory\n",
      "Infections\n",
      "●\n",
      "Sooth\n",
      "the\n",
      "throat\n",
      "and\n",
      "relieve\n",
      "cough\n",
      "with\n",
      "a\n",
      "home\n",
      "remedy\n",
      "such\n",
      "as\n",
      "lemon\n",
      "with\n",
      "honey ,\n",
      "ginger ,\n",
      "tulsi,\n",
      "warm\n",
      "water\n",
      "etc.\n",
      "●\n",
      "Above\n",
      "mentioned\n",
      "remedies\n",
      "may\n",
      "be\n",
      "used\n",
      "in\n",
      "small\n",
      "doses.\n",
      "\n",
      "\n"
     ]
    }
   ],
   "source": [
    "context = \"Context:\\n\"\n",
    "for i in range(top_k):\n",
    "    context = context + response.source_nodes[i].text + \"\\n\\n\"\n",
    "\n",
    "print(context)"
   ]
  },
  {
   "cell_type": "code",
   "execution_count": 20,
   "id": "af35d310",
   "metadata": {},
   "outputs": [
    {
     "data": {
      "text/plain": [
       "'\\n#question creation prompts\\nq_system_prompt = \"You are an expert user extracting questions from a text. You will be passed a piece of text which would be the problem of patients, write a list of questions that can be answered based *solely* on the given text.\"\\nquery_wrapper_prompt = \"<|USER|>{query_str}<|ASSISTANT|>\"\\n\\n#answer prompt\\na_system_prompt = \"You are a ayurvedic remedies/herbs/medicine recommender. Extract the exact data from given document and give them as responsee in a pointwise manner. If no information found please reply \\'no informa tion available\\'\"\\n\\n'"
      ]
     },
     "execution_count": 20,
     "metadata": {},
     "output_type": "execute_result"
    }
   ],
   "source": [
    "'''\n",
    "#question creation prompts\n",
    "q_system_prompt = \"You are an expert user extracting questions from a text. You will be passed a piece of text which would be the problem of patients, write a list of questions that can be answered based *solely* on the given text.\"\n",
    "query_wrapper_prompt = \"<|USER|>{query_str}<|ASSISTANT|>\"\n",
    "\n",
    "#answer prompt\n",
    "a_system_prompt = \"You are a ayurvedic remedies/herbs/medicine recommender. Extract the exact data from given document and give them as responsee in a pointwise manner. If no information found please reply 'no informa tion available'\"\n",
    "\n",
    "'''"
   ]
  },
  {
   "cell_type": "code",
   "execution_count": 21,
   "id": "826b24fa",
   "metadata": {},
   "outputs": [],
   "source": [
    "\n",
    "# prompt (no context)\n",
    "intstructions_string = f\"\"\"You are an expert user extracting questions from a text. You will be passed a piece of text which would be the problem of patients, write a list of questions that can be answered based *solely* on the given text.\n",
    "\n",
    "Please respond to the following comment.\n",
    "\"\"\"\n",
    "prompt_template = lambda comment: f'''[INST] {intstructions_string} \\n{comment} \\n[/INST]'''"
   ]
  },
  {
   "cell_type": "code",
   "execution_count": 22,
   "id": "92e17753",
   "metadata": {},
   "outputs": [
    {
     "name": "stdout",
     "output_type": "stream",
     "text": [
      "[INST] You are an expert user extracting questions from a text. You will be passed a piece of text which would be the problem of patients, write a list of questions that can be answered based *solely* on the given text.\n",
      "\n",
      "Please respond to the following comment.\n",
      " \n",
      "How to treat acidity? \n",
      "[/INST]\n"
     ]
    }
   ],
   "source": [
    "comment = \"How to treat acidity?\"\n",
    "\n",
    "prompt = prompt_template(comment)\n",
    "print(prompt)"
   ]
  },
  {
   "cell_type": "code",
   "execution_count": 33,
   "id": "71046cd0",
   "metadata": {},
   "outputs": [
    {
     "name": "stdout",
     "output_type": "stream",
     "text": [
      "Requirement already satisfied: optimum in c:\\users\\hp\\anaconda3\\lib\\site-packages (1.18.0)\n",
      "Requirement already satisfied: coloredlogs in c:\\users\\hp\\anaconda3\\lib\\site-packages (from optimum) (15.0.1)\n",
      "Requirement already satisfied: sympy in c:\\users\\hp\\anaconda3\\lib\\site-packages (from optimum) (1.11.1)\n",
      "Requirement already satisfied: transformers[sentencepiece]<4.40.0,>=4.26.0 in c:\\users\\hp\\anaconda3\\lib\\site-packages (from optimum) (4.39.3)\n",
      "Requirement already satisfied: torch>=1.11 in c:\\users\\hp\\anaconda3\\lib\\site-packages (from optimum) (2.2.0)\n",
      "Requirement already satisfied: packaging in c:\\users\\hp\\anaconda3\\lib\\site-packages (from optimum) (23.2)\n",
      "Requirement already satisfied: numpy in c:\\users\\hp\\anaconda3\\lib\\site-packages (from optimum) (1.24.3)\n",
      "Requirement already satisfied: huggingface-hub>=0.8.0 in c:\\users\\hp\\anaconda3\\lib\\site-packages (from optimum) (0.22.2)\n",
      "Requirement already satisfied: datasets in c:\\users\\hp\\anaconda3\\lib\\site-packages (from optimum) (2.10.1)\n",
      "Requirement already satisfied: filelock in c:\\users\\hp\\anaconda3\\lib\\site-packages (from huggingface-hub>=0.8.0->optimum) (3.13.3)\n",
      "Requirement already satisfied: fsspec>=2023.5.0 in c:\\users\\hp\\anaconda3\\lib\\site-packages (from huggingface-hub>=0.8.0->optimum) (2024.3.1)\n",
      "Requirement already satisfied: pyyaml>=5.1 in c:\\users\\hp\\anaconda3\\lib\\site-packages (from huggingface-hub>=0.8.0->optimum) (6.0.1)\n",
      "Requirement already satisfied: requests in c:\\users\\hp\\anaconda3\\lib\\site-packages (from huggingface-hub>=0.8.0->optimum) (2.31.0)\n",
      "Requirement already satisfied: tqdm>=4.42.1 in c:\\users\\hp\\anaconda3\\lib\\site-packages (from huggingface-hub>=0.8.0->optimum) (4.66.2)\n",
      "Requirement already satisfied: typing-extensions>=3.7.4.3 in c:\\users\\hp\\anaconda3\\lib\\site-packages (from huggingface-hub>=0.8.0->optimum) (4.10.0)\n",
      "Requirement already satisfied: networkx in c:\\users\\hp\\anaconda3\\lib\\site-packages (from torch>=1.11->optimum) (3.1)\n",
      "Requirement already satisfied: jinja2 in c:\\users\\hp\\anaconda3\\lib\\site-packages (from torch>=1.11->optimum) (3.1.2)\n",
      "Requirement already satisfied: regex!=2019.12.17 in c:\\users\\hp\\anaconda3\\lib\\site-packages (from transformers[sentencepiece]<4.40.0,>=4.26.0->optimum) (2022.7.9)\n",
      "Requirement already satisfied: tokenizers<0.19,>=0.14 in c:\\users\\hp\\anaconda3\\lib\\site-packages (from transformers[sentencepiece]<4.40.0,>=4.26.0->optimum) (0.15.2)\n",
      "Requirement already satisfied: safetensors>=0.4.1 in c:\\users\\hp\\anaconda3\\lib\\site-packages (from transformers[sentencepiece]<4.40.0,>=4.26.0->optimum) (0.4.2)\n",
      "Requirement already satisfied: sentencepiece!=0.1.92,>=0.1.91 in c:\\users\\hp\\anaconda3\\lib\\site-packages (from transformers[sentencepiece]<4.40.0,>=4.26.0->optimum) (0.2.0)\n",
      "Requirement already satisfied: protobuf in c:\\users\\hp\\anaconda3\\lib\\site-packages (from transformers[sentencepiece]<4.40.0,>=4.26.0->optimum) (4.25.3)\n",
      "Requirement already satisfied: humanfriendly>=9.1 in c:\\users\\hp\\anaconda3\\lib\\site-packages (from coloredlogs->optimum) (10.0)\n",
      "Requirement already satisfied: pyarrow>=6.0.0 in c:\\users\\hp\\anaconda3\\lib\\site-packages (from datasets->optimum) (11.0.0)\n",
      "Requirement already satisfied: dill<0.3.7,>=0.3.0 in c:\\users\\hp\\anaconda3\\lib\\site-packages (from datasets->optimum) (0.3.6)\n",
      "Requirement already satisfied: pandas in c:\\users\\hp\\anaconda3\\lib\\site-packages (from datasets->optimum) (2.2.1)\n",
      "Requirement already satisfied: xxhash in c:\\users\\hp\\anaconda3\\lib\\site-packages (from datasets->optimum) (3.4.1)\n",
      "Requirement already satisfied: multiprocess in c:\\users\\hp\\anaconda3\\lib\\site-packages (from datasets->optimum) (0.70.14)\n",
      "Requirement already satisfied: aiohttp in c:\\users\\hp\\anaconda3\\lib\\site-packages (from datasets->optimum) (3.9.3)\n",
      "Requirement already satisfied: responses<0.19 in c:\\users\\hp\\anaconda3\\lib\\site-packages (from datasets->optimum) (0.18.0)\n",
      "Requirement already satisfied: mpmath>=0.19 in c:\\users\\hp\\anaconda3\\lib\\site-packages (from sympy->optimum) (1.3.0)\n",
      "Requirement already satisfied: aiosignal>=1.1.2 in c:\\users\\hp\\anaconda3\\lib\\site-packages (from aiohttp->datasets->optimum) (1.2.0)\n",
      "Requirement already satisfied: attrs>=17.3.0 in c:\\users\\hp\\anaconda3\\lib\\site-packages (from aiohttp->datasets->optimum) (22.1.0)\n",
      "Requirement already satisfied: frozenlist>=1.1.1 in c:\\users\\hp\\anaconda3\\lib\\site-packages (from aiohttp->datasets->optimum) (1.3.3)\n",
      "Requirement already satisfied: multidict<7.0,>=4.5 in c:\\users\\hp\\anaconda3\\lib\\site-packages (from aiohttp->datasets->optimum) (6.0.2)\n",
      "Requirement already satisfied: yarl<2.0,>=1.0 in c:\\users\\hp\\anaconda3\\lib\\site-packages (from aiohttp->datasets->optimum) (1.8.1)\n",
      "Requirement already satisfied: pyreadline3 in c:\\users\\hp\\anaconda3\\lib\\site-packages (from humanfriendly>=9.1->coloredlogs->optimum) (3.4.1)\n",
      "Requirement already satisfied: charset-normalizer<4,>=2 in c:\\users\\hp\\anaconda3\\lib\\site-packages (from requests->huggingface-hub>=0.8.0->optimum) (2.0.4)\n",
      "Requirement already satisfied: idna<4,>=2.5 in c:\\users\\hp\\anaconda3\\lib\\site-packages (from requests->huggingface-hub>=0.8.0->optimum) (3.4)\n",
      "Requirement already satisfied: urllib3<3,>=1.21.1 in c:\\users\\hp\\anaconda3\\lib\\site-packages (from requests->huggingface-hub>=0.8.0->optimum) (1.26.16)\n",
      "Requirement already satisfied: certifi>=2017.4.17 in c:\\users\\hp\\anaconda3\\lib\\site-packages (from requests->huggingface-hub>=0.8.0->optimum) (2023.7.22)\n",
      "Requirement already satisfied: colorama in c:\\users\\hp\\anaconda3\\lib\\site-packages (from tqdm>=4.42.1->huggingface-hub>=0.8.0->optimum) (0.4.6)\n",
      "Requirement already satisfied: MarkupSafe>=2.0 in c:\\users\\hp\\anaconda3\\lib\\site-packages (from jinja2->torch>=1.11->optimum) (2.1.1)\n",
      "Requirement already satisfied: python-dateutil>=2.8.2 in c:\\users\\hp\\anaconda3\\lib\\site-packages (from pandas->datasets->optimum) (2.8.2)\n",
      "Requirement already satisfied: pytz>=2020.1 in c:\\users\\hp\\anaconda3\\lib\\site-packages (from pandas->datasets->optimum) (2022.7)\n",
      "Requirement already satisfied: tzdata>=2022.7 in c:\\users\\hp\\anaconda3\\lib\\site-packages (from pandas->datasets->optimum) (2024.1)\n",
      "Requirement already satisfied: six>=1.5 in c:\\users\\hp\\anaconda3\\lib\\site-packages (from python-dateutil>=2.8.2->pandas->datasets->optimum) (1.16.0)\n"
     ]
    }
   ],
   "source": [
    "!pip install optimum"
   ]
  },
  {
   "cell_type": "code",
   "execution_count": 34,
   "id": "71d24a22",
   "metadata": {},
   "outputs": [
    {
     "name": "stdout",
     "output_type": "stream",
     "text": [
      "Requirement already satisfied: auto-gptq in c:\\users\\hp\\anaconda3\\lib\\site-packages (0.7.1)\n",
      "Requirement already satisfied: accelerate>=0.26.0 in c:\\users\\hp\\anaconda3\\lib\\site-packages (from auto-gptq) (0.29.1)\n",
      "Requirement already satisfied: datasets in c:\\users\\hp\\anaconda3\\lib\\site-packages (from auto-gptq) (2.10.1)\n",
      "Requirement already satisfied: sentencepiece in c:\\users\\hp\\anaconda3\\lib\\site-packages (from auto-gptq) (0.2.0)\n",
      "Requirement already satisfied: numpy in c:\\users\\hp\\anaconda3\\lib\\site-packages (from auto-gptq) (1.24.3)\n",
      "Requirement already satisfied: rouge in c:\\users\\hp\\anaconda3\\lib\\site-packages (from auto-gptq) (1.0.1)\n",
      "Requirement already satisfied: gekko in c:\\users\\hp\\anaconda3\\lib\\site-packages (from auto-gptq) (1.1.0)\n",
      "Requirement already satisfied: torch>=1.13.0 in c:\\users\\hp\\anaconda3\\lib\\site-packages (from auto-gptq) (2.2.0)\n",
      "Requirement already satisfied: safetensors in c:\\users\\hp\\anaconda3\\lib\\site-packages (from auto-gptq) (0.4.2)\n",
      "Requirement already satisfied: transformers>=4.31.0 in c:\\users\\hp\\anaconda3\\lib\\site-packages (from auto-gptq) (4.39.3)\n",
      "Requirement already satisfied: peft>=0.5.0 in c:\\users\\hp\\anaconda3\\lib\\site-packages (from auto-gptq) (0.10.0)\n",
      "Requirement already satisfied: tqdm in c:\\users\\hp\\anaconda3\\lib\\site-packages (from auto-gptq) (4.66.2)\n",
      "Requirement already satisfied: packaging>=20.0 in c:\\users\\hp\\anaconda3\\lib\\site-packages (from accelerate>=0.26.0->auto-gptq) (23.2)\n",
      "Requirement already satisfied: psutil in c:\\users\\hp\\anaconda3\\lib\\site-packages (from accelerate>=0.26.0->auto-gptq) (5.9.0)\n",
      "Requirement already satisfied: pyyaml in c:\\users\\hp\\anaconda3\\lib\\site-packages (from accelerate>=0.26.0->auto-gptq) (6.0.1)\n",
      "Requirement already satisfied: huggingface-hub in c:\\users\\hp\\anaconda3\\lib\\site-packages (from accelerate>=0.26.0->auto-gptq) (0.22.2)\n",
      "Requirement already satisfied: filelock in c:\\users\\hp\\anaconda3\\lib\\site-packages (from torch>=1.13.0->auto-gptq) (3.13.3)\n",
      "Requirement already satisfied: typing-extensions>=4.8.0 in c:\\users\\hp\\anaconda3\\lib\\site-packages (from torch>=1.13.0->auto-gptq) (4.10.0)\n",
      "Requirement already satisfied: sympy in c:\\users\\hp\\anaconda3\\lib\\site-packages (from torch>=1.13.0->auto-gptq) (1.11.1)\n",
      "Requirement already satisfied: networkx in c:\\users\\hp\\anaconda3\\lib\\site-packages (from torch>=1.13.0->auto-gptq) (3.1)\n",
      "Requirement already satisfied: jinja2 in c:\\users\\hp\\anaconda3\\lib\\site-packages (from torch>=1.13.0->auto-gptq) (3.1.2)\n",
      "Requirement already satisfied: fsspec in c:\\users\\hp\\anaconda3\\lib\\site-packages (from torch>=1.13.0->auto-gptq) (2024.3.1)\n",
      "Requirement already satisfied: regex!=2019.12.17 in c:\\users\\hp\\anaconda3\\lib\\site-packages (from transformers>=4.31.0->auto-gptq) (2022.7.9)\n",
      "Requirement already satisfied: requests in c:\\users\\hp\\anaconda3\\lib\\site-packages (from transformers>=4.31.0->auto-gptq) (2.31.0)\n",
      "Requirement already satisfied: tokenizers<0.19,>=0.14 in c:\\users\\hp\\anaconda3\\lib\\site-packages (from transformers>=4.31.0->auto-gptq) (0.15.2)\n",
      "Requirement already satisfied: colorama in c:\\users\\hp\\anaconda3\\lib\\site-packages (from tqdm->auto-gptq) (0.4.6)\n",
      "Requirement already satisfied: pyarrow>=6.0.0 in c:\\users\\hp\\anaconda3\\lib\\site-packages (from datasets->auto-gptq) (11.0.0)\n",
      "Requirement already satisfied: dill<0.3.7,>=0.3.0 in c:\\users\\hp\\anaconda3\\lib\\site-packages (from datasets->auto-gptq) (0.3.6)\n",
      "Requirement already satisfied: pandas in c:\\users\\hp\\anaconda3\\lib\\site-packages (from datasets->auto-gptq) (2.2.1)\n",
      "Requirement already satisfied: xxhash in c:\\users\\hp\\anaconda3\\lib\\site-packages (from datasets->auto-gptq) (3.4.1)\n",
      "Requirement already satisfied: multiprocess in c:\\users\\hp\\anaconda3\\lib\\site-packages (from datasets->auto-gptq) (0.70.14)\n",
      "Requirement already satisfied: aiohttp in c:\\users\\hp\\anaconda3\\lib\\site-packages (from datasets->auto-gptq) (3.9.3)\n",
      "Requirement already satisfied: responses<0.19 in c:\\users\\hp\\anaconda3\\lib\\site-packages (from datasets->auto-gptq) (0.18.0)\n",
      "Requirement already satisfied: six in c:\\users\\hp\\anaconda3\\lib\\site-packages (from rouge->auto-gptq) (1.16.0)\n",
      "Requirement already satisfied: aiosignal>=1.1.2 in c:\\users\\hp\\anaconda3\\lib\\site-packages (from aiohttp->datasets->auto-gptq) (1.2.0)\n",
      "Requirement already satisfied: attrs>=17.3.0 in c:\\users\\hp\\anaconda3\\lib\\site-packages (from aiohttp->datasets->auto-gptq) (22.1.0)\n",
      "Requirement already satisfied: frozenlist>=1.1.1 in c:\\users\\hp\\anaconda3\\lib\\site-packages (from aiohttp->datasets->auto-gptq) (1.3.3)\n",
      "Requirement already satisfied: multidict<7.0,>=4.5 in c:\\users\\hp\\anaconda3\\lib\\site-packages (from aiohttp->datasets->auto-gptq) (6.0.2)\n",
      "Requirement already satisfied: yarl<2.0,>=1.0 in c:\\users\\hp\\anaconda3\\lib\\site-packages (from aiohttp->datasets->auto-gptq) (1.8.1)\n",
      "Requirement already satisfied: charset-normalizer<4,>=2 in c:\\users\\hp\\anaconda3\\lib\\site-packages (from requests->transformers>=4.31.0->auto-gptq) (2.0.4)\n",
      "Requirement already satisfied: idna<4,>=2.5 in c:\\users\\hp\\anaconda3\\lib\\site-packages (from requests->transformers>=4.31.0->auto-gptq) (3.4)\n",
      "Requirement already satisfied: urllib3<3,>=1.21.1 in c:\\users\\hp\\anaconda3\\lib\\site-packages (from requests->transformers>=4.31.0->auto-gptq) (1.26.16)\n",
      "Requirement already satisfied: certifi>=2017.4.17 in c:\\users\\hp\\anaconda3\\lib\\site-packages (from requests->transformers>=4.31.0->auto-gptq) (2023.7.22)\n",
      "Requirement already satisfied: MarkupSafe>=2.0 in c:\\users\\hp\\anaconda3\\lib\\site-packages (from jinja2->torch>=1.13.0->auto-gptq) (2.1.1)\n",
      "Requirement already satisfied: python-dateutil>=2.8.2 in c:\\users\\hp\\anaconda3\\lib\\site-packages (from pandas->datasets->auto-gptq) (2.8.2)\n",
      "Requirement already satisfied: pytz>=2020.1 in c:\\users\\hp\\anaconda3\\lib\\site-packages (from pandas->datasets->auto-gptq) (2022.7)\n",
      "Requirement already satisfied: tzdata>=2022.7 in c:\\users\\hp\\anaconda3\\lib\\site-packages (from pandas->datasets->auto-gptq) (2024.1)\n",
      "Requirement already satisfied: mpmath>=0.19 in c:\\users\\hp\\anaconda3\\lib\\site-packages (from sympy->torch>=1.13.0->auto-gptq) (1.3.0)\n"
     ]
    }
   ],
   "source": [
    "!pip install auto-gptq"
   ]
  },
  {
   "cell_type": "code",
   "execution_count": 36,
   "id": "f33ef0db",
   "metadata": {},
   "outputs": [
    {
     "name": "stdout",
     "output_type": "stream",
     "text": [
      "Requirement already satisfied: accelerate in c:\\users\\hp\\anaconda3\\lib\\site-packages (0.29.1)\n",
      "Requirement already satisfied: numpy>=1.17 in c:\\users\\hp\\anaconda3\\lib\\site-packages (from accelerate) (1.24.3)\n",
      "Requirement already satisfied: packaging>=20.0 in c:\\users\\hp\\anaconda3\\lib\\site-packages (from accelerate) (23.2)\n",
      "Requirement already satisfied: psutil in c:\\users\\hp\\anaconda3\\lib\\site-packages (from accelerate) (5.9.0)\n",
      "Requirement already satisfied: pyyaml in c:\\users\\hp\\anaconda3\\lib\\site-packages (from accelerate) (6.0.1)\n",
      "Requirement already satisfied: torch>=1.10.0 in c:\\users\\hp\\anaconda3\\lib\\site-packages (from accelerate) (2.2.0)\n",
      "Requirement already satisfied: huggingface-hub in c:\\users\\hp\\anaconda3\\lib\\site-packages (from accelerate) (0.22.2)\n",
      "Requirement already satisfied: safetensors>=0.3.1 in c:\\users\\hp\\anaconda3\\lib\\site-packages (from accelerate) (0.4.2)\n",
      "Requirement already satisfied: filelock in c:\\users\\hp\\anaconda3\\lib\\site-packages (from torch>=1.10.0->accelerate) (3.13.3)\n",
      "Requirement already satisfied: typing-extensions>=4.8.0 in c:\\users\\hp\\anaconda3\\lib\\site-packages (from torch>=1.10.0->accelerate) (4.10.0)\n",
      "Requirement already satisfied: sympy in c:\\users\\hp\\anaconda3\\lib\\site-packages (from torch>=1.10.0->accelerate) (1.11.1)\n",
      "Requirement already satisfied: networkx in c:\\users\\hp\\anaconda3\\lib\\site-packages (from torch>=1.10.0->accelerate) (3.1)\n",
      "Requirement already satisfied: jinja2 in c:\\users\\hp\\anaconda3\\lib\\site-packages (from torch>=1.10.0->accelerate) (3.1.2)\n",
      "Requirement already satisfied: fsspec in c:\\users\\hp\\anaconda3\\lib\\site-packages (from torch>=1.10.0->accelerate) (2024.3.1)\n",
      "Requirement already satisfied: requests in c:\\users\\hp\\anaconda3\\lib\\site-packages (from huggingface-hub->accelerate) (2.31.0)\n",
      "Requirement already satisfied: tqdm>=4.42.1 in c:\\users\\hp\\anaconda3\\lib\\site-packages (from huggingface-hub->accelerate) (4.66.2)\n",
      "Requirement already satisfied: colorama in c:\\users\\hp\\anaconda3\\lib\\site-packages (from tqdm>=4.42.1->huggingface-hub->accelerate) (0.4.6)\n",
      "Requirement already satisfied: MarkupSafe>=2.0 in c:\\users\\hp\\anaconda3\\lib\\site-packages (from jinja2->torch>=1.10.0->accelerate) (2.1.1)\n",
      "Requirement already satisfied: charset-normalizer<4,>=2 in c:\\users\\hp\\anaconda3\\lib\\site-packages (from requests->huggingface-hub->accelerate) (2.0.4)\n",
      "Requirement already satisfied: idna<4,>=2.5 in c:\\users\\hp\\anaconda3\\lib\\site-packages (from requests->huggingface-hub->accelerate) (3.4)\n",
      "Requirement already satisfied: urllib3<3,>=1.21.1 in c:\\users\\hp\\anaconda3\\lib\\site-packages (from requests->huggingface-hub->accelerate) (1.26.16)\n",
      "Requirement already satisfied: certifi>=2017.4.17 in c:\\users\\hp\\anaconda3\\lib\\site-packages (from requests->huggingface-hub->accelerate) (2023.7.22)\n",
      "Requirement already satisfied: mpmath>=0.19 in c:\\users\\hp\\anaconda3\\lib\\site-packages (from sympy->torch>=1.10.0->accelerate) (1.3.0)\n"
     ]
    }
   ],
   "source": [
    "!pip install --upgrade accelerate"
   ]
  },
  {
   "cell_type": "code",
   "execution_count": 4,
   "id": "fe8110dd",
   "metadata": {},
   "outputs": [
    {
     "name": "stderr",
     "output_type": "stream",
     "text": [
      "Some weights of BertLMHeadModel were not initialized from the model checkpoint at BAAI/bge-small-en-v1.5 and are newly initialized: ['cls.predictions.bias', 'cls.predictions.decoder.bias', 'cls.predictions.transform.LayerNorm.bias', 'cls.predictions.transform.LayerNorm.weight', 'cls.predictions.transform.dense.bias', 'cls.predictions.transform.dense.weight']\n",
      "You should probably TRAIN this model on a down-stream task to be able to use it for predictions and inference.\n"
     ]
    }
   ],
   "source": [
    "from peft import PeftModel, PeftConfig\n",
    "from transformers import AutoModelForCausalLM, AutoTokenizer\n",
    "\n",
    "model_name = \"BAAI/bge-small-en-v1.5\"\n",
    "model = AutoModelForCausalLM.from_pretrained(model_name,\n",
    "                                             trust_remote_code=False,\n",
    "                                             revision=\"main\",\n",
    "                                            is_decoder=True)"
   ]
  },
  {
   "cell_type": "code",
   "execution_count": 5,
   "id": "66a03e14",
   "metadata": {},
   "outputs": [
    {
     "data": {
      "application/vnd.jupyter.widget-view+json": {
       "model_id": "90baa92f361f45c183c9dd02850d4d2d",
       "version_major": 2,
       "version_minor": 0
      },
      "text/plain": [
       "tokenizer_config.json:   0%|          | 0.00/366 [00:00<?, ?B/s]"
      ]
     },
     "metadata": {},
     "output_type": "display_data"
    },
    {
     "data": {
      "application/vnd.jupyter.widget-view+json": {
       "model_id": "e9b3c3ed6c5a4b1bb00d02c700d18cc7",
       "version_major": 2,
       "version_minor": 0
      },
      "text/plain": [
       "vocab.txt:   0%|          | 0.00/232k [00:00<?, ?B/s]"
      ]
     },
     "metadata": {},
     "output_type": "display_data"
    },
    {
     "data": {
      "application/vnd.jupyter.widget-view+json": {
       "model_id": "03c47736927c4fe5892336ab56507e05",
       "version_major": 2,
       "version_minor": 0
      },
      "text/plain": [
       "tokenizer.json:   0%|          | 0.00/711k [00:00<?, ?B/s]"
      ]
     },
     "metadata": {},
     "output_type": "display_data"
    },
    {
     "data": {
      "application/vnd.jupyter.widget-view+json": {
       "model_id": "e24babfbae0d4565bbdd89c4db9a88aa",
       "version_major": 2,
       "version_minor": 0
      },
      "text/plain": [
       "special_tokens_map.json:   0%|          | 0.00/125 [00:00<?, ?B/s]"
      ]
     },
     "metadata": {},
     "output_type": "display_data"
    }
   ],
   "source": [
    "tokenizer = AutoTokenizer.from_pretrained(model_name, use_fast=True)"
   ]
  },
  {
   "cell_type": "code",
   "execution_count": null,
   "id": "b7e57796",
   "metadata": {},
   "outputs": [],
   "source": []
  },
  {
   "cell_type": "code",
   "execution_count": 6,
   "id": "2128193c",
   "metadata": {},
   "outputs": [],
   "source": [
    "prompt_template_w_context = lambda context, comment: f\"\"\"[INST]Ayur, functioning as a experienced ayurvedic doctor, communicates in clear, accessible language, escalating to patient's problem resolution. \\\n",
    "It reacts to feedback aptly and ends responses with its signature '–AYUR'. \\\n",
    "Ayur will suggest what the patient should eat/drink/consume in order to cure the disease of patient. \n",
    "\n",
    "{context}\n",
    "Please respond to the following comment. Use the context above if it is helpful.\n",
    "\n",
    "{comment}\n",
    "[/INST]\n",
    "\"\"\""
   ]
  },
  {
   "cell_type": "code",
   "execution_count": 24,
   "id": "5e02525e",
   "metadata": {
    "scrolled": true
   },
   "outputs": [
    {
     "name": "stdout",
     "output_type": "stream",
     "text": [
      "[CLS] [ inst ] ayur, functioning as a experienced ayurvedic doctor, communicates in clear, accessible language, escalating to patient's problem resolution. it reacts to feedback aptly and ends responses with its signature'– ayur '. ayur will suggest what the patient should eat / drink / consume in order to cure the disease of patient. context : ● keep away from others who are infected with cold. ● eat a well balanced diet and get enough rest. take plenty of hot beverages. care of new born during coughs & colds to avoid acute respiratory infections ● sooth the throat and relieve cough with a home remedy such as lemon with honey, ginger, tulsi, warm water etc. ● above mentioned remedies may be used in small doses. please respond to the following comment. use the context above if it is helpful. how to treat acidity? [ / inst ] [SEP] corpday sleeping agree unanimousfirmed guess victory sad cooperative asian humans correlation agree agree agree agree agree agree agree agree agree agree agree agree agree agree agree agree agree agree agree agree agree agree agree agree agree agree agree agree agree agree agree agree agree agree corp asian humans corp herd nationals face agree agree agree agree agree corp corp herd nationals face corpday watched agree corp adopted stood agree agree agree agree agree agree agree agree corp corp corp corp corp corp corp corp adopted stood chapter corp corp herd humans corp adopted gandhidu asian humans corp herd nationals face corp adopted commented corp adopted gandhi asian humans corp herd nationals face corp adopted gandhi agree agree agree agree agree agree agree agree agree agree agree agree agree agree agree adopted bearer trust unanimous alone agree stood chapter asian humans correlation corp adopted stood chapter asian humans corp herd survivor corporations market video classified region humans correlation corp market video classified region humans correlation asian humans correlation asian humans correlation corp adopted quota commonwealthfirmed corp market watched corpday corp market unanimous pali agree unanimous pali agree unanimous pali agree unanimous pali agree unanimous pali agree unanimous pali agree unanimous pali testify agree unanimous aroused corp council council unanimous pali agree unanimous pali testify agree unanimous council council unanimous pali agree unanimous presidential belly pounds negative classified chapter council council council unanimous pali testify amendment courageous commented corp adopted commented corp adopted commented corp adopted gandhi urge lunar humans correlation adopted stood facial agree unanimous pali testify agree unanimous pali testify agree unanimous pali testify stood unanimous pali testify stood unanimous homecoming taliban correlation collectively\n"
     ]
    }
   ],
   "source": [
    "prompt = prompt_template_w_context(context, comment)\n",
    "\n",
    "inputs = tokenizer(prompt, return_tensors=\"pt\")\n",
    "outputs = model.generate(input_ids=inputs[\"input_ids\"].to(\"cpu\"), max_new_tokens=280)\n",
    "\n",
    "print(tokenizer.batch_decode(outputs)[0])"
   ]
  },
  {
   "cell_type": "code",
   "execution_count": 29,
   "id": "968c5f5a",
   "metadata": {
    "scrolled": true
   },
   "outputs": [
    {
     "name": "stdout",
     "output_type": "stream",
     "text": [
      "tensor([[  101,  1031, 16021,  2102,  1033,  1037, 10513,  2099,  1010, 12285,\n",
      "          2004,  1037,  5281,  1037, 10513,  2099,  7178,  2594,  3460,  1010,\n",
      "         10639,  2015,  1999,  3154,  1010,  7801,  2653,  1010,  9686, 25015,\n",
      "          3436,  2000,  5776,  1005,  1055,  3291,  5813,  1012,  2009, 27325,\n",
      "          2000, 12247, 26794,  2135,  1998,  4515, 10960,  2007,  2049,  8085,\n",
      "          1005,  1516,  1037, 10513,  2099,  1005,  1012,  1037, 10513,  2099,\n",
      "          2097,  6592,  2054,  1996,  5776,  2323,  4521,  1013,  4392,  1013,\n",
      "         16678,  1999,  2344,  2000,  9526,  1996,  4295,  1997,  5776,  1012,\n",
      "          6123,  1024,  1619,  2562,  2185,  2013,  2500,  2040,  2024, 10372,\n",
      "          2007,  3147,  1012,  1619,  4521,  1037,  2092, 12042,  8738,  1998,\n",
      "          2131,  2438,  2717,  1012,  2202,  7564,  1997,  2980, 21705,  1012,\n",
      "          2729,  1997,  2047,  2141,  2076, 19340,  2015,  1004,  3147,  2015,\n",
      "          2000,  4468, 11325, 16464, 15245,  1619, 17111,  2705,  1996,  3759,\n",
      "          1998, 15804, 19340,  2007,  1037,  2188, 19519,  2107,  2004, 14380,\n",
      "          2007,  6861,  1010, 14580,  1010, 10722,  4877,  2072,  1010,  4010,\n",
      "          2300,  4385,  1012,  1619,  2682,  3855,  2128,  7583,  3111,  2089,\n",
      "          2022,  2109,  1999,  2235, 21656,  1012,  3531,  6869,  2000,  1996,\n",
      "          2206,  7615,  1012,  2224,  1996,  6123,  2682,  2065,  2009,  2003,\n",
      "         14044,  1012,  2129,  2000,  7438,  5648,  3012,  1029,  1031,  1013,\n",
      "         16021,  2102,  1033,   102, 13058, 10259,  5777,  5993, 13604, 23141,\n",
      "          3984,  3377,  6517, 10791,  4004,  4286, 16902,  5993,  5993,  5993,\n",
      "          5993,  5993,  5993,  5993,  5993,  5993,  5993,  5993,  5993,  5993,\n",
      "          5993,  5993,  5993,  5993,  5993,  5993,  5993,  5993,  5993,  5993,\n",
      "          5993,  5993,  5993,  5993,  5993,  5993,  5993,  5993,  5993,  5993,\n",
      "          5993, 13058,  4004,  4286, 13058, 14906, 10342,  2227,  5993,  5993,\n",
      "          5993,  5993,  5993, 13058, 13058, 14906, 10342,  2227, 13058, 10259,\n",
      "          3427,  5993, 13058,  4233,  2768,  5993,  5993,  5993,  5993,  5993,\n",
      "          5993,  5993,  5993, 13058, 13058, 13058, 13058, 13058, 13058, 13058,\n",
      "         13058,  4233,  2768,  3127, 13058, 13058, 14906,  4286, 13058,  4233,\n",
      "         12338,  8566,  4004,  4286, 13058, 14906, 10342,  2227, 13058,  4233,\n",
      "          7034, 13058,  4233, 12338,  4004,  4286, 13058, 14906, 10342,  2227,\n",
      "         13058,  4233, 12338,  5993,  5993,  5993,  5993,  5993,  5993,  5993,\n",
      "          5993,  5993,  5993,  5993,  5993,  5993,  5993,  5993,  4233, 20905,\n",
      "          3404, 13604,  2894,  5993,  2768,  3127,  4004,  4286, 16902, 13058,\n",
      "          4233,  2768,  3127,  4004,  4286, 13058, 14906, 12084, 11578,  3006,\n",
      "          2678,  6219,  2555,  4286, 16902, 13058,  3006,  2678,  6219,  2555,\n",
      "          4286, 16902,  4004,  4286, 16902,  4004,  4286, 16902, 13058,  4233,\n",
      "         20563,  5663, 23141, 13058,  3006,  3427, 13058, 10259, 13058,  3006,\n",
      "         13604, 28619,  5993, 13604, 28619,  5993, 13604, 28619,  5993, 13604,\n",
      "         28619,  5993, 13604, 28619,  5993, 13604, 28619,  5993, 13604, 28619,\n",
      "         19919,  5993, 13604, 18391, 13058,  2473,  2473, 13604, 28619,  5993,\n",
      "         13604, 28619, 19919,  5993, 13604,  2473,  2473, 13604, 28619,  5993,\n",
      "         13604,  4883,  7579,  7038,  4997,  6219,  3127,  2473,  2473,  2473,\n",
      "         13604, 28619, 19919,  7450, 26103,  7034, 13058,  4233,  7034, 13058,\n",
      "          4233,  7034, 13058,  4233, 12338,  9075, 11926,  4286, 16902,  4233,\n",
      "          2768, 13268,  5993, 13604, 28619, 19919,  5993, 13604, 28619, 19919,\n",
      "          5993, 13604, 28619, 19919,  2768, 13604, 28619, 19919,  2768, 13604,\n",
      "         20772, 16597, 16902, 13643]])\n"
     ]
    }
   ],
   "source": [
    "print(outputs)"
   ]
  },
  {
   "cell_type": "code",
   "execution_count": null,
   "id": "0c6cac4f",
   "metadata": {},
   "outputs": [],
   "source": []
  },
  {
   "cell_type": "code",
   "execution_count": null,
   "id": "eb524ebb",
   "metadata": {},
   "outputs": [],
   "source": []
  },
  {
   "cell_type": "code",
   "execution_count": null,
   "id": "60599cc7",
   "metadata": {},
   "outputs": [],
   "source": []
  },
  {
   "cell_type": "code",
   "execution_count": null,
   "id": "38964167",
   "metadata": {},
   "outputs": [],
   "source": []
  },
  {
   "cell_type": "code",
   "execution_count": null,
   "id": "12230d96",
   "metadata": {},
   "outputs": [],
   "source": []
  },
  {
   "cell_type": "code",
   "execution_count": null,
   "id": "aa711cd5",
   "metadata": {},
   "outputs": [],
   "source": []
  },
  {
   "cell_type": "code",
   "execution_count": null,
   "id": "000af163",
   "metadata": {},
   "outputs": [],
   "source": []
  },
  {
   "cell_type": "code",
   "execution_count": 3,
   "id": "146f2fa6",
   "metadata": {},
   "outputs": [],
   "source": [
    "#model.eval()\n",
    "\n",
    "#inputs = tokenizer(prompt, return_tensors=\"pt\")\n",
    "#outputs = model.generate(input_ids=inputs[\"input_ids\"].to(\"cuda\"), max_new_tokens=280)\n",
    "\n",
    "#print(tokenizer.batch_decode(outputs)[0])"
   ]
  },
  {
   "cell_type": "code",
   "execution_count": null,
   "id": "f09ff1f5",
   "metadata": {},
   "outputs": [],
   "source": []
  },
  {
   "cell_type": "code",
   "execution_count": 4,
   "id": "a1bc5b25",
   "metadata": {},
   "outputs": [
    {
     "data": {
      "text/plain": [
       "'import logging\\nimport sys\\nimport torch\\nfrom pprint import pprint\\n#from llama_index import VectorStoreIndex, SimpleDirectoryReader, ServiceContext\\n#from llama_index.llms import HuggingFaceLLM\\nfrom langchain.embeddings.huggingface import HuggingFaceEmbeddings\\n# from llama_index import LangchainEmbedding\\n#from llama_index.prompts.prompts import SimpleInputPrompt\\n'"
      ]
     },
     "execution_count": 4,
     "metadata": {},
     "output_type": "execute_result"
    }
   ],
   "source": [
    "'''import logging\n",
    "import sys\n",
    "import torch\n",
    "from pprint import pprint\n",
    "#from llama_index import VectorStoreIndex, SimpleDirectoryReader, ServiceContext\n",
    "#from llama_index.llms import HuggingFaceLLM\n",
    "from langchain.embeddings.huggingface import HuggingFaceEmbeddings\n",
    "# from llama_index import LangchainEmbedding\n",
    "#from llama_index.prompts.prompts import SimpleInputPrompt\n",
    "'''"
   ]
  },
  {
   "cell_type": "code",
   "execution_count": 25,
   "id": "ce2aa64c",
   "metadata": {},
   "outputs": [],
   "source": [
    "import modin.pandas as pd\n",
    "#this method takes two pages at a time in a sliding window fashion and generates questions and answers for them\n",
    "def create_qa_set_for_documents(documents_list):\n",
    "    all_pairs = []\n",
    "    for i in range(0, len(documents_list)-1):\n",
    "        print(\"Document pair no. - \"+str(i))\n",
    "        text = documents_list[i].text\n",
    "        if i < len(documents_list)-1 :\n",
    "            text = text + documents_list[i+1].text\n",
    "        documents_pair = [documents_list[i].copy()]\n",
    "        documents_pair[0].text = text\n",
    "        all_pairs.extend(create_qa_set(text, documents_pair))\n",
    "        print(\"Total Pairs so far: \"+str(len(all_pairs)))\n",
    "    return all_pairs"
   ]
  },
  {
   "cell_type": "code",
   "execution_count": null,
   "id": "df256fed",
   "metadata": {},
   "outputs": [],
   "source": [
    "#loader = PDFReader()\n",
    "#data = []\n",
    "#try:\n",
    "#loader.load_data(file=Path(r'C:\\Users\\hp\\Downloads\\Ayurvedic Dataset.txt'))\n",
    "#except:\n",
    "#print(\"error\")"
   ]
  },
  {
   "cell_type": "code",
   "execution_count": null,
   "id": "c761a04b",
   "metadata": {},
   "outputs": [],
   "source": []
  },
  {
   "cell_type": "code",
   "execution_count": null,
   "id": "36f250fc",
   "metadata": {},
   "outputs": [],
   "source": []
  },
  {
   "cell_type": "code",
   "execution_count": 31,
   "id": "414a1e8e",
   "metadata": {},
   "outputs": [
    {
     "data": {
      "text/plain": [
       "'def getLLMforPrompts(system_prompt, query_wrapper_prompt) :\\n    return HuggingFaceLLM(\\n        context_window=context_window,\\n        max_new_tokens=256,\\n        generate_kwargs={\"temperature\":temperature,\"top_p\":0.5, \"do_sample\": False},\\n        system_prompt= system_prompt,\\n        query_wrapper_prompt = query_wrapper_prompt,\\n        tokenizer=tokenizer,\\n        model=model_llm,\\n        device_map=\\'auto\\',\\n        model_kwargs={\"temperature\":0.1, \"top_p\":0.5,\"use_auth_token\": True}\\n    )\\n'"
      ]
     },
     "execution_count": 31,
     "metadata": {},
     "output_type": "execute_result"
    }
   ],
   "source": [
    "'''def getLLMforPrompts(system_prompt, query_wrapper_prompt) :\n",
    "    return HuggingFaceLLM(\n",
    "        context_window=context_window,\n",
    "        max_new_tokens=256,\n",
    "        generate_kwargs={\"temperature\":temperature,\"top_p\":0.5, \"do_sample\": False},\n",
    "        system_prompt= system_prompt,\n",
    "        query_wrapper_prompt = query_wrapper_prompt,\n",
    "        tokenizer=tokenizer,\n",
    "        model=model_llm,\n",
    "        device_map='auto',\n",
    "        model_kwargs={\"temperature\":0.1, \"top_p\":0.5,\"use_auth_token\": True}\n",
    "    )\n",
    "'''"
   ]
  },
  {
   "cell_type": "code",
   "execution_count": 32,
   "id": "35286790",
   "metadata": {},
   "outputs": [
    {
     "data": {
      "text/plain": [
       "'def getAllQuestions(response_text):\\n    j=0\\n    lines = response_text.split(\"\\n\")\\n    list_questions = []\\n    for i in range(0, len(lines)):\\n        if \"?\" in lines[i] and not lines[i][0].isalpha():\\n            for j in range(0, len(lines[i])):\\n                if lines[i][j].isalpha():\\n                    break\\n            list_questions.append(lines[i][j:].replace(\"  \",\" \").strip())\\n    if len(list_questions) == 0:\\n        for i in range(0, len(lines)):\\n            if \"?\" in lines[i]:\\n                list_questions.append(lines[i][j:].replace(\"  \",\" \").strip())\\n    list_questions = list(set(list_questions))\\n    return list_questions\\n'"
      ]
     },
     "execution_count": 32,
     "metadata": {},
     "output_type": "execute_result"
    }
   ],
   "source": [
    "'''def getAllQuestions(response_text):\n",
    "    j=0\n",
    "    lines = response_text.split(\"\\n\")\n",
    "    list_questions = []\n",
    "    for i in range(0, len(lines)):\n",
    "        if \"?\" in lines[i] and not lines[i][0].isalpha():\n",
    "            for j in range(0, len(lines[i])):\n",
    "                if lines[i][j].isalpha():\n",
    "                    break\n",
    "            list_questions.append(lines[i][j:].replace(\"  \",\" \").strip())\n",
    "    if len(list_questions) == 0:\n",
    "        for i in range(0, len(lines)):\n",
    "            if \"?\" in lines[i]:\n",
    "                list_questions.append(lines[i][j:].replace(\"  \",\" \").strip())\n",
    "    list_questions = list(set(list_questions))\n",
    "    return list_questions\n",
    "'''"
   ]
  },
  {
   "cell_type": "code",
   "execution_count": null,
   "id": "b467698b",
   "metadata": {},
   "outputs": [],
   "source": [
    "'''def getQueryEngine(a_llm, docs):\n",
    "    service_context = ServiceContext.from_defaults(\n",
    "        chunk_size=1024,\n",
    "        llm=a_llm,\n",
    "        embed_model=embed_model\n",
    "    )\n",
    "    index = VectorStoreIndex.from_documents(docs, service_context=service_context)\n",
    "    return index.as_query_engine()\n",
    "'''"
   ]
  },
  {
   "cell_type": "code",
   "execution_count": null,
   "id": "8fc140f9",
   "metadata": {},
   "outputs": [],
   "source": []
  },
  {
   "cell_type": "code",
   "execution_count": null,
   "id": "4e24ff08",
   "metadata": {},
   "outputs": [],
   "source": []
  },
  {
   "cell_type": "code",
   "execution_count": null,
   "id": "564ea981",
   "metadata": {},
   "outputs": [],
   "source": []
  }
 ],
 "metadata": {
  "kernelspec": {
   "display_name": "Python 3 (ipykernel)",
   "language": "python",
   "name": "python3"
  },
  "language_info": {
   "codemirror_mode": {
    "name": "ipython",
    "version": 3
   },
   "file_extension": ".py",
   "mimetype": "text/x-python",
   "name": "python",
   "nbconvert_exporter": "python",
   "pygments_lexer": "ipython3",
   "version": "3.11.4"
  }
 },
 "nbformat": 4,
 "nbformat_minor": 5
}
