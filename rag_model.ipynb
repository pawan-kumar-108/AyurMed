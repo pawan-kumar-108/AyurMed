{
 "cells": [
  {
   "cell_type": "code",
   "execution_count": 1,
   "id": "c2828f24",
   "metadata": {},
   "outputs": [],
   "source": [
    "#!pip install gradio"
   ]
  },
  {
   "cell_type": "code",
   "execution_count": 2,
   "id": "6a885b20",
   "metadata": {},
   "outputs": [],
   "source": [
    "from huggingface_hub import InferenceClient\n",
    "import gradio as gr"
   ]
  },
  {
   "cell_type": "code",
   "execution_count": 3,
   "id": "63ae02e6",
   "metadata": {},
   "outputs": [],
   "source": [
    "client = InferenceClient(\n",
    "    \"mistralai/Mistral-7B-Instruct-v0.1\"\n",
    ")"
   ]
  },
  {
   "cell_type": "code",
   "execution_count": 4,
   "id": "40098679",
   "metadata": {},
   "outputs": [],
   "source": [
    "#!pip install modin[all]"
   ]
  },
  {
   "cell_type": "code",
   "execution_count": 5,
   "id": "118072e3",
   "metadata": {},
   "outputs": [
    {
     "name": "stderr",
     "output_type": "stream",
     "text": [
      "UserWarning: Pandas requires version '1.3.6' or newer of 'bottleneck' (version '1.3.5' currently installed).\n"
     ]
    }
   ],
   "source": [
    "import modin.pandas as pd"
   ]
  },
  {
   "cell_type": "code",
   "execution_count": 6,
   "id": "c9e987b8",
   "metadata": {},
   "outputs": [
    {
     "name": "stderr",
     "output_type": "stream",
     "text": [
      "ERROR: Could not find a version that satisfies the requirement intel-extension-for-pytorch (from versions: none)\n",
      "ERROR: No matching distribution found for intel-extension-for-pytorch\n"
     ]
    }
   ],
   "source": [
    "#!pip install intel-extension-for-pytorch"
   ]
  },
  {
   "cell_type": "code",
   "execution_count": 7,
   "id": "81e46aa2",
   "metadata": {},
   "outputs": [],
   "source": [
    "import sys\n",
    "import os\n",
    "#!pip install datasets tensorboardX"
   ]
  },
  {
   "cell_type": "code",
   "execution_count": 8,
   "id": "ef848859",
   "metadata": {},
   "outputs": [],
   "source": [
    "#!pip install torch==2.2.0"
   ]
  },
  {
   "cell_type": "code",
   "execution_count": 9,
   "id": "7f281a97",
   "metadata": {},
   "outputs": [],
   "source": [
    "#!pip install PyPDF2"
   ]
  },
  {
   "cell_type": "code",
   "execution_count": 10,
   "id": "ec5d8e5d",
   "metadata": {},
   "outputs": [],
   "source": [
    "#!pip install llama_index"
   ]
  },
  {
   "cell_type": "code",
   "execution_count": 11,
   "id": "8acfd034",
   "metadata": {
    "scrolled": true
   },
   "outputs": [
    {
     "ename": "ImportError",
     "evalue": "cannot import name 'download_loader' from 'llama_index' (unknown location)",
     "output_type": "error",
     "traceback": [
      "\u001b[1;31m---------------------------------------------------------------------------\u001b[0m",
      "\u001b[1;31mImportError\u001b[0m                               Traceback (most recent call last)",
      "Cell \u001b[1;32mIn[11], line 2\u001b[0m\n\u001b[0;32m      1\u001b[0m \u001b[38;5;28;01mfrom\u001b[39;00m \u001b[38;5;21;01mpathlib\u001b[39;00m \u001b[38;5;28;01mimport\u001b[39;00m Path\n\u001b[1;32m----> 2\u001b[0m \u001b[38;5;28;01mfrom\u001b[39;00m \u001b[38;5;21;01mllama_index\u001b[39;00m \u001b[38;5;28;01mimport\u001b[39;00m download_loader\n\u001b[0;32m      4\u001b[0m PDFReader \u001b[38;5;241m=\u001b[39m download_loader(\u001b[38;5;124m\"\u001b[39m\u001b[38;5;124mPDFReader\u001b[39m\u001b[38;5;124m\"\u001b[39m)\n",
      "\u001b[1;31mImportError\u001b[0m: cannot import name 'download_loader' from 'llama_index' (unknown location)"
     ]
    }
   ],
   "source": [
    "'''from pathlib import Path\n",
    "from llama_index import download_loader\n",
    "\n",
    "PDFReader = download_loader(\"PDFReader\")'''"
   ]
  },
  {
   "cell_type": "code",
   "execution_count": 13,
   "id": "a1bc5b25",
   "metadata": {},
   "outputs": [],
   "source": [
    "import logging\n",
    "import sys\n",
    "import torch\n",
    "from pprint import pprint\n",
    "#from llama_index import VectorStoreIndex, SimpleDirectoryReader, ServiceContext\n",
    "#from llama_index.llms import HuggingFaceLLM\n",
    "from langchain.embeddings.huggingface import HuggingFaceEmbeddings\n",
    "# from llama_index import LangchainEmbedding\n",
    "#from llama_index.prompts.prompts import SimpleInputPrompt"
   ]
  },
  {
   "cell_type": "code",
   "execution_count": 14,
   "id": "ce2aa64c",
   "metadata": {},
   "outputs": [],
   "source": [
    "import modin.pandas as pd\n",
    "#this method takes two pages at a time in a sliding window fashion and generates questions and answers for them\n",
    "def create_qa_set_for_documents(documents_list):\n",
    "    all_pairs = []\n",
    "    for i in range(0, len(documents_list)-1):\n",
    "        print(\"Document pair no. - \"+str(i))\n",
    "        text = documents_list[i].text\n",
    "        if i < len(documents_list)-1 :\n",
    "            text = text + documents_list[i+1].text\n",
    "        documents_pair = [documents_list[i].copy()]\n",
    "        documents_pair[0].text = text\n",
    "        all_pairs.extend(create_qa_set(text, documents_pair))\n",
    "        print(\"Total Pairs so far: \"+str(len(all_pairs)))\n",
    "    return all_pairs"
   ]
  },
  {
   "cell_type": "code",
   "execution_count": 15,
   "id": "af35d310",
   "metadata": {},
   "outputs": [],
   "source": [
    "#question creation prompts\n",
    "q_system_prompt = \"You are an expert user extracting questions from a text. You will be passed a piece of text which would be the problem of patients, write a list of questions that can be answered based *solely* on the given text.\"\n",
    "query_wrapper_prompt = \"<|USER|>{query_str}<|ASSISTANT|>\"\n",
    "\n",
    "#answer prompt\n",
    "a_system_prompt = \"You are a ayurvedic remedies/herbs/medicine recommender. Extract the exact data from given document and give them as responsee in a pointwise manner. If no information found please reply 'no informa tion available'\""
   ]
  },
  {
   "cell_type": "code",
   "execution_count": 20,
   "id": "df256fed",
   "metadata": {},
   "outputs": [
    {
     "ename": "NameError",
     "evalue": "name 'loader' is not defined",
     "output_type": "error",
     "traceback": [
      "\u001b[1;31m---------------------------------------------------------------------------\u001b[0m",
      "\u001b[1;31mNameError\u001b[0m                                 Traceback (most recent call last)",
      "Cell \u001b[1;32mIn[20], line 4\u001b[0m\n\u001b[0;32m      2\u001b[0m data \u001b[38;5;241m=\u001b[39m []\n\u001b[0;32m      3\u001b[0m \u001b[38;5;66;03m#try:\u001b[39;00m\n\u001b[1;32m----> 4\u001b[0m loader\u001b[38;5;241m.\u001b[39mload_data(file\u001b[38;5;241m=\u001b[39mPath(\u001b[38;5;124mr\u001b[39m\u001b[38;5;124m'\u001b[39m\u001b[38;5;124mC:\u001b[39m\u001b[38;5;124m\\\u001b[39m\u001b[38;5;124mUsers\u001b[39m\u001b[38;5;124m\\\u001b[39m\u001b[38;5;124mhp\u001b[39m\u001b[38;5;124m\\\u001b[39m\u001b[38;5;124mDownloads\u001b[39m\u001b[38;5;124m\\\u001b[39m\u001b[38;5;124mAyurvedic Dataset.pdf\u001b[39m\u001b[38;5;124m'\u001b[39m))\n",
      "\u001b[1;31mNameError\u001b[0m: name 'loader' is not defined"
     ]
    }
   ],
   "source": [
    "#loader = PDFReader()\n",
    "data = []\n",
    "try:\n",
    "loader.load_data(file=Path(r'C:\\Users\\hp\\Downloads\\Ayurvedic Dataset.pdf'))\n",
    "except:\n",
    "    print(\"error\")"
   ]
  },
  {
   "cell_type": "code",
   "execution_count": null,
   "id": "414a1e8e",
   "metadata": {},
   "outputs": [],
   "source": [
    "def getLLMforPrompts(system_prompt, query_wrapper_prompt) :\n",
    "    return HuggingFaceLLM(\n",
    "        context_window=context_window,\n",
    "        max_new_tokens=256,\n",
    "        generate_kwargs={\"temperature\":temperature,\"top_p\":0.5, \"do_sample\": False},\n",
    "        system_prompt= system_prompt,\n",
    "        query_wrapper_prompt = query_wrapper_prompt,\n",
    "        tokenizer=tokenizer,\n",
    "        model=model_llm,\n",
    "        device_map='auto',\n",
    "        model_kwargs={\"temperature\":0.1, \"top_p\":0.5,\"use_auth_token\": True}\n",
    "    )"
   ]
  },
  {
   "cell_type": "code",
   "execution_count": null,
   "id": "35286790",
   "metadata": {},
   "outputs": [],
   "source": [
    "def getAllQuestions(response_text):\n",
    "    j=0\n",
    "    lines = response_text.split(\"\\n\")\n",
    "    list_questions = []\n",
    "    for i in range(0, len(lines)):\n",
    "        if \"?\" in lines[i] and not lines[i][0].isalpha():\n",
    "            for j in range(0, len(lines[i])):\n",
    "                if lines[i][j].isalpha():\n",
    "                    break\n",
    "            list_questions.append(lines[i][j:].replace(\"  \",\" \").strip())\n",
    "    if len(list_questions) == 0:\n",
    "        for i in range(0, len(lines)):\n",
    "            if \"?\" in lines[i]:\n",
    "                list_questions.append(lines[i][j:].replace(\"  \",\" \").strip())\n",
    "    list_questions = list(set(list_questions))\n",
    "    return list_questions"
   ]
  },
  {
   "cell_type": "code",
   "execution_count": null,
   "id": "b467698b",
   "metadata": {},
   "outputs": [],
   "source": [
    "def getQueryEngine(a_llm, docs):\n",
    "    service_context = ServiceContext.from_defaults(\n",
    "        chunk_size=1024,\n",
    "        llm=a_llm,\n",
    "        embed_model=embed_model\n",
    "    )\n",
    "    index = VectorStoreIndex.from_documents(docs, service_context=service_context)\n",
    "    return index.as_query_engine()"
   ]
  },
  {
   "cell_type": "code",
   "execution_count": null,
   "id": "120f6ddb",
   "metadata": {},
   "outputs": [],
   "source": []
  },
  {
   "cell_type": "code",
   "execution_count": null,
   "id": "8fc140f9",
   "metadata": {},
   "outputs": [],
   "source": []
  },
  {
   "cell_type": "code",
   "execution_count": null,
   "id": "4e24ff08",
   "metadata": {},
   "outputs": [],
   "source": []
  },
  {
   "cell_type": "code",
   "execution_count": null,
   "id": "564ea981",
   "metadata": {},
   "outputs": [],
   "source": []
  }
 ],
 "metadata": {
  "kernelspec": {
   "display_name": "Python 3 (ipykernel)",
   "language": "python",
   "name": "python3"
  },
  "language_info": {
   "codemirror_mode": {
    "name": "ipython",
    "version": 3
   },
   "file_extension": ".py",
   "mimetype": "text/x-python",
   "name": "python",
   "nbconvert_exporter": "python",
   "pygments_lexer": "ipython3",
   "version": "3.11.4"
  }
 },
 "nbformat": 4,
 "nbformat_minor": 5
}
